{
 "cells": [
  {
   "cell_type": "code",
   "execution_count": null,
   "metadata": {},
   "outputs": [
    {
     "name": "stdout",
     "output_type": "stream",
     "text": [
      "   Unnamed: 0                                              title    price  \\\n",
      "0           0  DELL Vostro Core i3 11th Gen - (8 GB/1 TB HDD/...  ₹37,990   \n",
      "1           1  HP 14s Intel Core i3 11th Gen - (8 GB/256 GB S...  ₹35,490   \n",
      "2           2  Lenovo V15 G2 Core i3 11th Gen - (8 GB/512 GB ...  ₹33,999   \n",
      "3           3  HP 15s Intel Core i3 12th Gen - (8 GB/512 GB S...  ₹45,490   \n",
      "4           4  ASUS VivoBook 15 (2022) Core i3 10th Gen - (8 ...  ₹33,990   \n",
      "\n",
      "         discount                                          Processor  \\\n",
      "0  ₹58,48935% off  Processor: Intel i3-1115G4 (Base- 1.7 GHz & Tu...   \n",
      "1  ₹47,20624% off                 Intel Core i3 Processor (11th Gen)   \n",
      "2  ₹59,76043% off                 Intel Core i3 Processor (11th Gen)   \n",
      "3  ₹56,26019% off                 Intel Core i3 Processor (12th Gen)   \n",
      "4  ₹45,99026% off                 Intel Core i3 Processor (10th Gen)   \n",
      "\n",
      "                                             RAM  \\\n",
      "0  RAM & Storage: 8GB DDR4 & 1TB HDD + 256GB SSD   \n",
      "1                                  8 GB DDR4 RAM   \n",
      "2                                  8 GB DDR4 RAM   \n",
      "3                                  8 GB DDR4 RAM   \n",
      "4                                  8 GB DDR4 RAM   \n",
      "\n",
      "                                                  OS  \\\n",
      "0  Graphics & Keyboard: Integrated & Standard Key...   \n",
      "1                 64 bit Windows 11 Operating System   \n",
      "2                 64 bit Windows 11 Operating System   \n",
      "3                 64 bit Windows 11 Operating System   \n",
      "4                 64 bit Windows 11 Operating System   \n",
      "\n",
      "                                       SSD  \\\n",
      "0  Display: 15.6\" FHD WVA AG Narrow Border   \n",
      "1                               256 GB SSD   \n",
      "2                               512 GB SSD   \n",
      "3                               512 GB SSD   \n",
      "4                               512 GB SSD   \n",
      "\n",
      "                              Display                           In_build_sw  \\\n",
      "0  Intel Core i3 Processor (11th Gen)                                   NaN   \n",
      "1          35.56 cm (14 inch) Display                                   NaN   \n",
      "2        39.62 cm (15.6 Inch) Display                                    No   \n",
      "3        39.62 cm (15.6 Inch) Display  Microsoft Office Home & Student 2021   \n",
      "4        39.62 cm (15.6 inch) Display          Office Home and Student 2021   \n",
      "\n",
      "                                            warranty  \n",
      "0                                      8 GB DDR4 RAM  \n",
      "1                             1 Year Onsite Warranty  \n",
      "2  1 Year Onsite Warranty + 1 Year Accidental Dam...  \n",
      "3                             1 Year Onsite Warranty  \n",
      "4                             1 Year Onsite Warranty  \n"
     ]
    }
   ],
   "source": [
    "import pandas as pd\n",
    "import numpy as np\n",
    "import matplotlib.pyplot as plt\n",
    "\n",
    "df = pd.read_csv(\"laptops.csv\")\n",
    "print(df.head(5))"
   ]
  },
  {
   "cell_type": "code",
   "execution_count": 3,
   "metadata": {},
   "outputs": [
    {
     "name": "stdout",
     "output_type": "stream",
     "text": [
      "Index(['Unnamed: 0', 'title', 'price', 'discount', 'Processor', 'RAM', 'OS',\n",
      "       'SSD', 'Display', 'In_build_sw', 'warranty'],\n",
      "      dtype='object')\n"
     ]
    }
   ],
   "source": [
    "print(df.columns)"
   ]
  },
  {
   "cell_type": "code",
   "execution_count": 4,
   "metadata": {},
   "outputs": [
    {
     "name": "stdout",
     "output_type": "stream",
     "text": [
      "<class 'pandas.core.frame.DataFrame'>\n",
      "RangeIndex: 920 entries, 0 to 919\n",
      "Data columns (total 11 columns):\n",
      " #   Column       Non-Null Count  Dtype \n",
      "---  ------       --------------  ----- \n",
      " 0   Unnamed: 0   920 non-null    int64 \n",
      " 1   title        920 non-null    object\n",
      " 2   price        920 non-null    object\n",
      " 3   discount     831 non-null    object\n",
      " 4   Processor    920 non-null    object\n",
      " 5   RAM          920 non-null    object\n",
      " 6   OS           920 non-null    object\n",
      " 7   SSD          920 non-null    object\n",
      " 8   Display      920 non-null    object\n",
      " 9   In_build_sw  357 non-null    object\n",
      " 10  warranty     906 non-null    object\n",
      "dtypes: int64(1), object(10)\n",
      "memory usage: 79.2+ KB\n",
      "None\n"
     ]
    }
   ],
   "source": [
    "print(df.info())"
   ]
  },
  {
   "cell_type": "code",
   "execution_count": 7,
   "metadata": {},
   "outputs": [
    {
     "name": "stdout",
     "output_type": "stream",
     "text": [
      "(920, 11)\n"
     ]
    }
   ],
   "source": [
    "print(df.shape)"
   ]
  },
  {
   "cell_type": "code",
   "execution_count": 12,
   "metadata": {},
   "outputs": [
    {
     "name": "stdout",
     "output_type": "stream",
     "text": [
      "Index(['title', 'price', 'discount', 'Processor', 'RAM', 'OS', 'SSD',\n",
      "       'Display', 'In_build_sw', 'warranty'],\n",
      "      dtype='object')\n"
     ]
    }
   ],
   "source": [
    "df.drop(columns=[\"Unnamed: 0\"] , inplace=True)\n",
    "print(df.columns)"
   ]
  },
  {
   "cell_type": "code",
   "execution_count": 18,
   "metadata": {},
   "outputs": [
    {
     "name": "stdout",
     "output_type": "stream",
     "text": [
      "0     ₹37,990\n",
      "1     ₹35,490\n",
      "2     ₹33,999\n",
      "3     ₹45,490\n",
      "4     ₹33,990\n",
      "5     ₹67,990\n",
      "6     ₹52,990\n",
      "7     ₹47,990\n",
      "8     ₹49,123\n",
      "9     ₹57,499\n",
      "10    ₹62,990\n",
      "11    ₹29,990\n",
      "12    ₹39,990\n",
      "13    ₹27,799\n",
      "14    ₹26,990\n",
      "15    ₹35,990\n",
      "16    ₹54,990\n",
      "17    ₹20,990\n",
      "18    ₹39,990\n",
      "19    ₹23,990\n",
      "Name: price, dtype: object\n"
     ]
    }
   ],
   "source": [
    "print(df[\"price\"][:20])\n"
   ]
  },
  {
   "cell_type": "code",
   "execution_count": 25,
   "metadata": {},
   "outputs": [
    {
     "name": "stdout",
     "output_type": "stream",
     "text": [
      "int64\n"
     ]
    }
   ],
   "source": [
    "print(df[\"price\"].dtype)"
   ]
  },
  {
   "cell_type": "code",
   "execution_count": null,
   "metadata": {},
   "outputs": [
    {
     "name": "stdout",
     "output_type": "stream",
     "text": [
      "0    37990\n",
      "1    35490\n",
      "2    33999\n",
      "3    45490\n",
      "4    33990\n",
      "5    67990\n",
      "6    52990\n",
      "7    47990\n",
      "8    49123\n",
      "9    57499\n",
      "Name: price_cleaned, dtype: int64\n"
     ]
    }
   ],
   "source": [
    "df[\"price_cleaned\"] = df[\"price\"].str.replace(\"₹\",\"\",regex=False).str.replace(\",\",\"\",regex=True)\n",
    "df[\"price_cleaned\"] = pd.to_numeric(df[\"price_cleaned\"], errors=\"coerce\")\n",
    "\n",
    "price_mean = df[\"price_cleaned\"].mean(skipna=True)\n",
    "df[\"price_cleaned\"] = df[\"price_cleaned\"].fillna(price_mean)\n",
    "\n",
    "df[\"price_cleaned\"] = df[\"price_cleaned\"].round(0)\n",
    "\n",
    "print(df[\"price_cleaned\"].head(10))\n",
    "df[\"price_cleaned\"] = df[\"price_cleaned\"].fillna(price_mean).astype(int)\n",
    "\n"
   ]
  },
  {
   "cell_type": "code",
   "execution_count": null,
   "metadata": {},
   "outputs": [
    {
     "name": "stdout",
     "output_type": "stream",
     "text": [
      "89\n",
      "920\n"
     ]
    }
   ],
   "source": [
    "nan = df[\"discount\"].isna().sum()\n",
    "print(nan)\n",
    "total = len(df[\"discount\"])\n",
    "print(total)\n",
    "#so we can go for replacing the mean with the nan s"
   ]
  },
  {
   "cell_type": "code",
   "execution_count": 214,
   "metadata": {},
   "outputs": [
    {
     "name": "stdout",
     "output_type": "stream",
     "text": [
      "23.646772228989036\n",
      "0     35.0\n",
      "1     24.0\n",
      "2     43.0\n",
      "3     19.0\n",
      "4     26.0\n",
      "5     28.0\n",
      "6     26.0\n",
      "7     39.0\n",
      "8     16.0\n",
      "9     18.0\n",
      "10    16.0\n",
      "11    31.0\n",
      "12    33.0\n",
      "13    31.0\n",
      "14    37.0\n",
      "15    36.0\n",
      "16    22.0\n",
      "17    30.0\n",
      "18    19.0\n",
      "19    29.0\n",
      "Name: discount_new, dtype: float64\n"
     ]
    }
   ],
   "source": [
    "df = pd.read_csv(\"laptops.csv\")\n",
    "df[\"discount_new\"] = df[\"discount\"].astype(str)\n",
    "\n",
    "df[\"discount_new\"] = df[\"discount_new\"].str.extract(r'(\\d{2})%')[0]\n",
    "\n",
    "df[\"discount_new\"] = pd.to_numeric(df[\"discount_new\"], errors=\"coerce\")\n",
    "\n",
    "discount_mean = df[\"discount_new\"].mean(skipna=True)\n",
    "df[\"discount_new\"] = round(df[\"discount_new\"].fillna(discount_mean),2)\n",
    "\n",
    "print(discount_mean)\n",
    "print(df[\"discount_new\"][:20])"
   ]
  },
  {
   "cell_type": "code",
   "execution_count": 82,
   "metadata": {},
   "outputs": [
    {
     "name": "stdout",
     "output_type": "stream",
     "text": [
      "0     RAM & Storage: 8GB DDR4 & 1TB HDD + 256GB SSD\n",
      "1                                     8 GB DDR4 RAM\n",
      "2                                     8 GB DDR4 RAM\n",
      "3                                     8 GB DDR4 RAM\n",
      "4                                     8 GB DDR4 RAM\n",
      "5                                     8 GB DDR4 RAM\n",
      "6                                     8 GB DDR4 RAM\n",
      "7                                     8 GB DDR4 RAM\n",
      "8                                    16 GB DDR4 RAM\n",
      "9                                     8 GB DDR4 RAM\n",
      "10                                    8 GB DDR4 RAM\n",
      "11                                    8 GB DDR4 RAM\n",
      "12                                    8 GB DDR4 RAM\n",
      "13                                    8 GB DDR4 RAM\n",
      "14                                    8 GB DDR4 RAM\n",
      "15                                    8 GB DDR4 RAM\n",
      "16                                    8 GB DDR4 RAM\n",
      "17                                 4 GB LPDDR4X RAM\n",
      "18                                    8 GB DDR4 RAM\n",
      "19                                    4 GB DDR4 RAM\n",
      "Name: RAM, dtype: object\n",
      "object\n",
      "0\n"
     ]
    }
   ],
   "source": [
    "print(df[\"RAM\"].head(20))\n",
    "print(df[\"RAM\"].dtype)\n",
    "print(df[\"RAM\"].isna().sum())"
   ]
  },
  {
   "cell_type": "code",
   "execution_count": 274,
   "metadata": {},
   "outputs": [
    {
     "name": "stdout",
     "output_type": "stream",
     "text": [
      "                                             RAM  ddr4  ddr5  lpddr4x\n",
      "0  RAM & Storage: 8GB DDR4 & 1TB HDD + 256GB SSD   8.0   0.0      0.0\n",
      "1                                  8 GB DDR4 RAM   8.0   0.0      0.0\n",
      "2                                  8 GB DDR4 RAM   8.0   0.0      0.0\n",
      "3                                  8 GB DDR4 RAM   8.0   0.0      0.0\n",
      "4                                  8 GB DDR4 RAM   8.0   0.0      0.0\n",
      "5                                  8 GB DDR4 RAM   8.0   0.0      0.0\n",
      "6                                  8 GB DDR4 RAM   8.0   0.0      0.0\n",
      "7                                  8 GB DDR4 RAM   8.0   0.0      0.0\n",
      "8                                 16 GB DDR4 RAM  16.0   0.0      0.0\n",
      "9                                  8 GB DDR4 RAM   8.0   0.0      0.0\n"
     ]
    }
   ],
   "source": [
    "df = pd.read_csv(\"laptops.csv\")\n",
    "import numpy as np\n",
    "\n",
    "\n",
    "df[\"RAM\"] = df[\"RAM\"].astype(str)\n",
    "\n",
    "df[\"RAM_cleaned\"] = df[\"RAM\"].str.extract(r'(\\d+)\\s*GB')[0].astype(float)\n",
    "\n",
    "df[\"ram_type\"] = df[\"RAM\"].str.extract(r'(LPDDR4X|DDR5|DDR4)', expand=False)\n",
    "\n",
    "df[\"ddr4\"] = np.where(df[\"ram_type\"] == \"DDR4\", df[\"RAM_cleaned\"], 0)\n",
    "df[\"ddr5\"] = np.where(df[\"ram_type\"] == \"DDR5\", df[\"RAM_cleaned\"], 0)\n",
    "df[\"lpddr4x\"] = np.where(df[\"ram_type\"] == \"LPDDR4X\", df[\"RAM_cleaned\"], 0)\n",
    "\n",
    "print(df[[\"RAM\", \"ddr4\", \"ddr5\", \"lpddr4x\"]].head(10))\n"
   ]
  },
  {
   "cell_type": "code",
   "execution_count": null,
   "metadata": {},
   "outputs": [
    {
     "name": "stdout",
     "output_type": "stream",
     "text": [
      "42\n",
      "920\n"
     ]
    }
   ],
   "source": [
    "print(df[\"RAM_cleaned\"].isna().sum())\n",
    "total = len(df[\"RAM_cleaned\"])\n",
    "print(total)"
   ]
  },
  {
   "cell_type": "code",
   "execution_count": null,
   "metadata": {},
   "outputs": [
    {
     "name": "stdout",
     "output_type": "stream",
     "text": [
      "111    15.6 Inch Full HD OLED 16:9 aspect ratio, 0.2m...\n",
      "146    15.6 Inch Full HD OLED 16:9 aspect ratio, 0.2m...\n",
      "149    15.6 inch Full HD AG Display (250 nits Brightn...\n",
      "164                      AMD Ryzen 5 Hexa Core Processor\n",
      "171    14 inch 2K QHD, IPS LCD Display ( 400nits peak...\n",
      "175                   Intel Core i7 Processor (11th Gen)\n",
      "176        Microsoft Office 2019 Home & Student Included\n",
      "261                      AMD Ryzen 5 Hexa Core Processor\n",
      "281    15.6 inch Full HD LED Backlit Anti-glare IPS D...\n",
      "293    15.6 inches Full HD, 2-sided narrow bezel, 120...\n",
      "301                      AMD Ryzen 5 Hexa Core Processor\n",
      "305    14 inch 2K QHD, IPS LCD Display ( 400nits peak...\n",
      "328                   Intel Core i7 Processor (10th Gen)\n",
      "334    15.6 inch Full HD AG Display (250 nits Brightn...\n",
      "361    15.6 inch Full HD LED Backlit Anti-glare IPS D...\n",
      "375    15.6 inch Full HD LED Backlit Anti-glare IPS D...\n",
      "398    15.6 inches Full HD, 2-sided narrow bezel, 120...\n",
      "411    15.6 inch Full HD AG Display (250 nits Brightn...\n",
      "458    15.6 inch Full HD LED Backlit Anti-glare IPS D...\n",
      "470                    Intel Core i7 Processor (7th Gen)\n",
      "471             Dual Fan Cooling with Metal AeroBlade 3D\n",
      "478                    Intel Core i7 Processor (8th Gen)\n",
      "485                    Intel Core i5 Processor (7th Gen)\n",
      "487                   Intel Core i7 Processor (12th Gen)\n",
      "517    15.6 inches Full HD, 2-sided narrow bezel, 120...\n",
      "537    15.6 inches Full HD, 2-sided narrow bezel, 120...\n",
      "551                   Intel Core i7 Processor (11th Gen)\n",
      "579                   Intel Core i7 Processor (11th Gen)\n",
      "580    15.6 inches Full HD, 2-sided narrow bezel, 120...\n",
      "632    Acer Cooler Master Technology Delivers Heighte...\n",
      "642                   Intel Core i7 Processor (11th Gen)\n",
      "645                    Intel Core i5 Processor (7th Gen)\n",
      "659                           NVIDIA GeForce GTX 1050 Ti\n",
      "674    15.6 inches Full HD, 2-sided narrow bezel, 120...\n",
      "698    15.6 inch Full HD LED Backlit Anti-glare Displ...\n",
      "726                    Intel Core i7 Processor (7th Gen)\n",
      "728                   Intel Core i5 Processor (11th Gen)\n",
      "775                   Intel Core i7 Processor (11th Gen)\n",
      "783    Pre-installed Genuine Windows 10 Operating Sys...\n",
      "820                    Intel Core i5 Processor (5th Gen)\n",
      "844    Pre-installed Genuine Windows 10 Operating Sys...\n",
      "900    Pre-installed Genuine Windows 10 Operating Sys...\n",
      "Name: RAM, dtype: object\n"
     ]
    }
   ],
   "source": [
    "df = pd.read_csv(\"laptops.csv\")\n",
    "\n",
    "ram_original = df[\"RAM_cleaned\"]\n",
    "ram_extracted = ram_original.str.extract(r'(\\d+)\\s*GB')[0]\n",
    "nan_rows = ram_original[ram_extracted.isna()]\n",
    "print(nan_rows)\n"
   ]
  },
  {
   "cell_type": "code",
   "execution_count": null,
   "metadata": {},
   "outputs": [],
   "source": [
    "df[\"RAM_cleaned\"] = df[\"RAM_cleaned\"].fillna(0)"
   ]
  },
  {
   "cell_type": "code",
   "execution_count": 129,
   "metadata": {},
   "outputs": [
    {
     "name": "stdout",
     "output_type": "stream",
     "text": [
      "0     Graphics & Keyboard: Integrated & Standard Key...\n",
      "1                    64 bit Windows 11 Operating System\n",
      "2                    64 bit Windows 11 Operating System\n",
      "3                    64 bit Windows 11 Operating System\n",
      "4                    64 bit Windows 11 Operating System\n",
      "5                    64 bit Windows 11 Operating System\n",
      "6                    64 bit Windows 11 Operating System\n",
      "7                    64 bit Windows 11 Operating System\n",
      "8                    64 bit Windows 11 Operating System\n",
      "9                    64 bit Windows 11 Operating System\n",
      "10                   64 bit Windows 11 Operating System\n",
      "11                   64 bit Windows 11 Operating System\n",
      "12                          Windows 11 Operating System\n",
      "13                   64 bit Windows 11 Operating System\n",
      "14                   64 bit Windows 11 Operating System\n",
      "15                   64 bit Windows 11 Operating System\n",
      "16                   64 bit Windows 10 Operating System\n",
      "17                   64 bit Windows 11 Operating System\n",
      "18                   64 bit Windows 11 Operating System\n",
      "19                   64 bit Windows 11 Operating System\n",
      "Name: OS, dtype: object\n",
      "object\n",
      "0\n"
     ]
    }
   ],
   "source": [
    "df = pd.read_csv(\"laptops.csv\")\n",
    "print(df[\"OS\"].head(20))\n",
    "print(df[\"OS\"].dtype)\n",
    "print(df[\"OS\"].isna().sum())"
   ]
  },
  {
   "cell_type": "code",
   "execution_count": null,
   "metadata": {},
   "outputs": [
    {
     "name": "stdout",
     "output_type": "stream",
     "text": [
      "0\n",
      "285\n",
      "134\n"
     ]
    }
   ],
   "source": [
    "df[\"os_bit\"] = df[\"OS\"].str.extract(r\"(\\d+)\\s*bit\")[0]\n",
    "df[\"os_windows\"] = df[\"OS\"].str.extract(r\"Windows\\s*(\\d+)\")[0]\n",
    "#print(df[\"OS\"][:20] , df[\"os_bit\"][:20] ,df[\"os_windows\"][:20] )\n",
    "print(df[\"OS\"].isna().sum())\n",
    "print(df[\"os_bit\"].isna().sum())\n",
    "print(df[\"os_windows\"].isna().sum())\n"
   ]
  },
  {
   "cell_type": "code",
   "execution_count": 131,
   "metadata": {},
   "outputs": [
    {
     "name": "stdout",
     "output_type": "stream",
     "text": [
      "                                                    OS os_bit\n",
      "0    Graphics & Keyboard: Integrated & Standard Key...    NaN\n",
      "12                         Windows 11 Operating System    NaN\n",
      "23                                DOS Operating System    NaN\n",
      "26                             Mac OS Operating System    NaN\n",
      "27   Graphics & Keyboard: Integrated & Standard Key...    NaN\n",
      "..                                                 ...    ...\n",
      "909                               DOS Operating System    NaN\n",
      "910                        Windows 11 Operating System    NaN\n",
      "913                        Windows 11 Operating System    NaN\n",
      "915                        Windows 11 Operating System    NaN\n",
      "916  Graphics: NVIDIA GEFORCE RTX 3050 (4GB GDDR6) ...    NaN\n",
      "\n",
      "[285 rows x 2 columns]\n",
      "                                                    OS os_windows\n",
      "0    Graphics & Keyboard: Integrated & Standard Key...        NaN\n",
      "23                                DOS Operating System        NaN\n",
      "26                             Mac OS Operating System        NaN\n",
      "27   Graphics & Keyboard: Integrated & Standard Key...        NaN\n",
      "30   Graphics & Keyboard: Integrated & Backlit Keyb...        NaN\n",
      "..                                                 ...        ...\n",
      "901                     64 bit Chrome Operating System        NaN\n",
      "904                               DOS Operating System        NaN\n",
      "906                 Display: 15.6\" HD AG Narrow Border        NaN\n",
      "909                               DOS Operating System        NaN\n",
      "916  Graphics: NVIDIA GEFORCE RTX 3050 (4GB GDDR6) ...        NaN\n",
      "\n",
      "[134 rows x 2 columns]\n"
     ]
    }
   ],
   "source": [
    "nan_os_bit = df[df[\"os_bit\"].isna()]\n",
    "print(nan_os_bit[[\"OS\", \"os_bit\"]])\n",
    "nan_os_windows = df[df[\"os_windows\"].isna()]\n",
    "print(nan_os_windows[[\"OS\", \"os_windows\"]])"
   ]
  },
  {
   "cell_type": "code",
   "execution_count": 133,
   "metadata": {},
   "outputs": [
    {
     "name": "stdout",
     "output_type": "stream",
     "text": [
      "0     other\n",
      "1      11.0\n",
      "2      11.0\n",
      "3      11.0\n",
      "4      11.0\n",
      "5      11.0\n",
      "6      11.0\n",
      "7      11.0\n",
      "8      11.0\n",
      "9      11.0\n",
      "10     11.0\n",
      "11     11.0\n",
      "12     11.0\n",
      "13     11.0\n",
      "14     11.0\n",
      "15     11.0\n",
      "16     10.0\n",
      "17     11.0\n",
      "18     11.0\n",
      "19     11.0\n",
      "Name: os_windows, dtype: object 0      0\n",
      "1     64\n",
      "2     64\n",
      "3     64\n",
      "4     64\n",
      "5     64\n",
      "6     64\n",
      "7     64\n",
      "8     64\n",
      "9     64\n",
      "10    64\n",
      "11    64\n",
      "12     0\n",
      "13    64\n",
      "14    64\n",
      "15    64\n",
      "16    64\n",
      "17    64\n",
      "18    64\n",
      "19    64\n",
      "Name: os_bit, dtype: int64\n"
     ]
    }
   ],
   "source": [
    "df[\"os_bit\"] = pd.to_numeric(df[\"os_bit\"] , errors=\"coerce\")\n",
    "df[\"os_windows\"] = pd.to_numeric(df[\"os_windows\"] , errors=\"coerce\")\n",
    "\n",
    "df[\"os_bit\"] = df[\"os_bit\"].fillna(0)\n",
    "df[\"os_windows\"] = df[\"os_windows\"].fillna(\"other\")\n",
    "print(df[\"os_windows\"][:20] , df[\"os_bit\"][:20])"
   ]
  },
  {
   "cell_type": "code",
   "execution_count": 134,
   "metadata": {},
   "outputs": [
    {
     "name": "stdout",
     "output_type": "stream",
     "text": [
      "Index(['Unnamed: 0', 'title', 'price', 'discount', 'Processor', 'RAM', 'OS',\n",
      "       'SSD', 'Display', 'In_build_sw', 'warranty', 'os_bit', 'os_windows'],\n",
      "      dtype='object')\n"
     ]
    }
   ],
   "source": [
    "print(df.columns)"
   ]
  },
  {
   "cell_type": "code",
   "execution_count": 135,
   "metadata": {},
   "outputs": [
    {
     "name": "stdout",
     "output_type": "stream",
     "text": [
      "0    Display: 15.6\" FHD WVA AG Narrow Border\n",
      "1                                 256 GB SSD\n",
      "2                                 512 GB SSD\n",
      "3                                 512 GB SSD\n",
      "4                                 512 GB SSD\n",
      "5                                 512 GB SSD\n",
      "6                                 512 GB SSD\n",
      "7                        1 TB HDD|256 GB SSD\n",
      "8                                 512 GB SSD\n",
      "9                                 512 GB SSD\n",
      "Name: SSD, dtype: object\n",
      "object\n",
      "0\n"
     ]
    }
   ],
   "source": [
    "print(df[\"SSD\"].head(10))\n",
    "print(df[\"SSD\"].dtype)\n",
    "print(df[\"SSD\"].isna().sum())"
   ]
  },
  {
   "cell_type": "code",
   "execution_count": 144,
   "metadata": {},
   "outputs": [
    {
     "name": "stdout",
     "output_type": "stream",
     "text": [
      "0     False\n",
      "1     False\n",
      "2     False\n",
      "3     False\n",
      "4     False\n",
      "5     False\n",
      "6     False\n",
      "7      True\n",
      "8     False\n",
      "9     False\n",
      "10    False\n",
      "11    False\n",
      "12    False\n",
      "13    False\n",
      "14    False\n",
      "15    False\n",
      "16    False\n",
      "17    False\n",
      "18    False\n",
      "19    False\n",
      "Name: SSD, dtype: bool\n"
     ]
    }
   ],
   "source": [
    "df = pd.read_csv(\"laptops.csv\")\n",
    "hdd_rows = df[\"SSD\"].str.contains(\"HDD\")[:20]\n",
    "print(hdd_rows)\n",
    "    "
   ]
  },
  {
   "cell_type": "code",
   "execution_count": null,
   "metadata": {},
   "outputs": [
    {
     "name": "stdout",
     "output_type": "stream",
     "text": [
      "0    Display: 15.6\" FHD WVA AG Narrow Border\n",
      "1                                 256 GB SSD\n",
      "2                                 512 GB SSD\n",
      "3                                 512 GB SSD\n",
      "4                                 512 GB SSD\n",
      "5                                 512 GB SSD\n",
      "6                                 512 GB SSD\n",
      "7                        1 TB HDD|256 GB SSD\n",
      "8                                 512 GB SSD\n",
      "9                                 512 GB SSD\n",
      "Name: SSD, dtype: object\n",
      "0      0\n",
      "1    256\n",
      "2    512\n",
      "3    512\n",
      "4    512\n",
      "5    512\n",
      "6    512\n",
      "7    256\n",
      "8    512\n",
      "9    512\n",
      "Name: ssd, dtype: int64\n",
      "0       0\n",
      "1       0\n",
      "2       0\n",
      "3       0\n",
      "4       0\n",
      "5       0\n",
      "6       0\n",
      "7    1024\n",
      "8       0\n",
      "9       0\n",
      "Name: hdd, dtype: int64\n",
      "0\n",
      "0\n"
     ]
    }
   ],
   "source": [
    "import pandas as pd\n",
    "df = pd.read_csv(\"laptops.csv\")\n",
    "\n",
    "#this is just what i did to understand the structure of the code and \n",
    "#i should do it again using numpy (as long as we can not use \"for\" in ML)\n",
    "'''df[\"ssd\"] = 0\n",
    "df[\"hdd\"] = 0\n",
    "def ssd_hdd(val):\n",
    "    ssd = 0\n",
    "    hdd = 0\n",
    "    val = str(val)\n",
    "    parts = val.split(\"|\") if \"|\" in val else [val]\n",
    "    for part in parts:\n",
    "        part = part.strip()\n",
    "        if \"SSD\" in part:\n",
    "            if \"TB\" in part:\n",
    "                num = part.split(\"TB\")[0].strip().split()[-1]\n",
    "                ssd += int(float(num) * 1024)\n",
    "            elif \"GB\" in part:\n",
    "                num = part.split(\"GB\")[0].strip().split()[-1]\n",
    "                ssd += int(float(num))\n",
    "        elif \"HDD\" in part:\n",
    "            if \"TB\" in part:\n",
    "                num = part.split(\"TB\")[0].strip().split()[-1]\n",
    "                hdd += int(float(num) * 1024)\n",
    "            elif \"GB\" in part:\n",
    "                num = part.split(\"GB\")[0].strip().split()[-1]\n",
    "                hdd += int(float(num))\n",
    "    return pd.Series([ssd, hdd])\n",
    "df[[\"ssd\", \"hdd\"]] = df[\"SSD\"].apply(ssd_hdd)'''\n",
    "\n",
    "'''print(df[\"SSD\"][:10])\n",
    "print(df[\"ssd\"][:10])\n",
    "print(df[\"hdd\"][:10])\n",
    "print(df[\"ssd\"].isna().sum())\n",
    "print(df[\"hdd\"].isna().sum())'''"
   ]
  },
  {
   "cell_type": "code",
   "execution_count": null,
   "metadata": {},
   "outputs": [
    {
     "name": "stdout",
     "output_type": "stream",
     "text": [
      "                                       SSD  ssd(GB)  hdd(GB)\n",
      "0  Display: 15.6\" FHD WVA AG Narrow Border      0.0      0.0\n",
      "1                               256 GB SSD    256.0      0.0\n",
      "2                               512 GB SSD    512.0      0.0\n",
      "3                               512 GB SSD    512.0      0.0\n",
      "4                               512 GB SSD    512.0      0.0\n",
      "5                               512 GB SSD    512.0      0.0\n",
      "6                               512 GB SSD    512.0      0.0\n",
      "7                      1 TB HDD|256 GB SSD    256.0   1024.0\n",
      "8                               512 GB SSD    512.0      0.0\n",
      "9                               512 GB SSD    512.0      0.0\n"
     ]
    }
   ],
   "source": [
    "import numpy as np\n",
    "\n",
    "df = pd.read_csv(\"laptops.csv\")\n",
    "\n",
    "df[\"SSD\"] = df[\"SSD\"].fillna(\"\").astype(str).str.strip()\n",
    "\n",
    "df_exp = df.assign(part=df[\"SSD\"].str.split(\"|\")).explode(\"part\")\n",
    "df_exp[\"part\"] = df_exp[\"part\"].str.strip()\n",
    "\n",
    "df_exp[\"ssd(GB)\"] = 0\n",
    "df_exp[\"hdd(GB)\"] = 0\n",
    "\n",
    "df_exp[[\"size\", \"unit\"]] = df_exp[\"part\"].str.extract(r'([\\d.]+)\\s*(TB|GB)', expand=True)\n",
    "df_exp[\"size\"] = df_exp[\"size\"].astype(float)\n",
    "df_exp[\"size_gb\"] = np.where(df_exp[\"unit\"].str.lower() == \"tb\", df_exp[\"size\"] * 1024, df_exp[\"size\"])\n",
    "\n",
    "df_exp[\"ssd(GB)\"] = np.where(df_exp[\"part\"].str.contains(\"SSD\", case=False), df_exp[\"size_gb\"], 0)\n",
    "df_exp[\"hdd(GB)\"] = np.where(df_exp[\"part\"].str.contains(\"HDD\", case=False), df_exp[\"size_gb\"], 0)\n",
    "\n",
    "df[[\"ssd(GB)\", \"hdd(GB)\"]] = df_exp.groupby(df_exp.index)[[\"ssd(GB)\", \"hdd(GB)\"]].sum().fillna(0)\n",
    "\n",
    "print(df[[\"SSD\", \"ssd(GB)\", \"hdd(GB)\"]].head(10))"
   ]
  },
  {
   "cell_type": "code",
   "execution_count": 289,
   "metadata": {},
   "outputs": [
    {
     "name": "stdout",
     "output_type": "stream",
     "text": [
      "0\n",
      "0\n"
     ]
    }
   ],
   "source": [
    "print(df[\"ssd(GB)\"].isna().sum())\n",
    "print(df[\"hdd(GB)\"].isna().sum())"
   ]
  },
  {
   "cell_type": "code",
   "execution_count": 158,
   "metadata": {},
   "outputs": [
    {
     "name": "stdout",
     "output_type": "stream",
     "text": [
      "Index(['Unnamed: 0', 'title', 'price', 'discount', 'Processor', 'RAM', 'OS',\n",
      "       'SSD', 'Display', 'In_build_sw', 'warranty', 'ssd', 'hdd'],\n",
      "      dtype='object')\n"
     ]
    }
   ],
   "source": [
    "print(df.columns)"
   ]
  },
  {
   "cell_type": "code",
   "execution_count": 159,
   "metadata": {},
   "outputs": [
    {
     "name": "stdout",
     "output_type": "stream",
     "text": [
      "0     Intel Core i3 Processor (11th Gen)\n",
      "1             35.56 cm (14 inch) Display\n",
      "2           39.62 cm (15.6 Inch) Display\n",
      "3           39.62 cm (15.6 Inch) Display\n",
      "4           39.62 cm (15.6 inch) Display\n",
      "5           43.94 cm (17.3 Inch) Display\n",
      "6           43.94 cm (17.3 Inch) Display\n",
      "7           39.62 cm (15.6 inch) Display\n",
      "8           39.62 cm (15.6 Inch) Display\n",
      "9           39.62 cm (15.6 inch) Display\n",
      "10          39.62 cm (15.6 inch) Display\n",
      "11            39.62 cm (15.6 mm) Display\n",
      "12          39.62 cm (15.6 inch) Display\n",
      "13          39.62 cm (15.6 Inch) Display\n",
      "14          39.62 cm (15.6 Inch) Display\n",
      "15          39.62 cm (15.6 Inch) Display\n",
      "16          39.62 cm (15.6 inch) Display\n",
      "17            35.56 cm (14 inch) Display\n",
      "18            35.56 cm (14 inch) Display\n",
      "19            35.56 cm (14 inch) Display\n",
      "Name: Display, dtype: object\n",
      "object\n",
      "0\n"
     ]
    }
   ],
   "source": [
    "df = pd.read_csv(\"laptops.csv\")\n",
    "print(df[\"Display\"][:20])\n",
    "print(df[\"Display\"].dtype)\n",
    "print(df[\"Display\"].isna().sum())"
   ]
  },
  {
   "cell_type": "code",
   "execution_count": 240,
   "metadata": {},
   "outputs": [
    {
     "name": "stdout",
     "output_type": "stream",
     "text": [
      "0      NaN\n",
      "1     14.0\n",
      "2     15.6\n",
      "3     15.6\n",
      "4     15.6\n",
      "5     17.3\n",
      "6     17.3\n",
      "7     15.6\n",
      "8     15.6\n",
      "9     15.6\n",
      "10    15.6\n",
      "11     NaN\n",
      "12    15.6\n",
      "13    15.6\n",
      "14    15.6\n",
      "15    15.6\n",
      "16    15.6\n",
      "17    14.0\n",
      "18    14.0\n",
      "19    14.0\n",
      "Name: Display_cleaned, dtype: float64\n",
      "86\n",
      "15.0\n"
     ]
    }
   ],
   "source": [
    "df = pd.read_csv(\"laptops.csv\")\n",
    "\n",
    "df[\"Display\"] = df[\"Display\"].str.replace(\"Inch\",\"inch\")\n",
    "df[\"Display\"] = df[\"Display\"].str.extract(r\"\\(?(\\d+\\.?\\d*)\\s*inch\")[0]\n",
    "df[\"Display_cleaned\"] = pd.to_numeric(df[\"Display\"], errors=\"coerce\")\n",
    "print(df[\"Display_cleaned\"][:20])\n",
    "\n",
    "print(df[\"Display_cleaned\"].isna().sum())\n",
    "\n",
    "display_mean = round(df[\"Display_cleaned\"].mean(skipna=True),1)\n",
    "print(display_mean)\n",
    "#print(df[\"Display\"].describe())\n",
    "\n"
   ]
  },
  {
   "cell_type": "code",
   "execution_count": 241,
   "metadata": {},
   "outputs": [
    {
     "name": "stdout",
     "output_type": "stream",
     "text": [
      "0    15.0\n",
      "1    14.0\n",
      "2    15.6\n",
      "3    15.6\n",
      "4    15.6\n",
      "5    17.3\n",
      "6    17.3\n",
      "7    15.6\n",
      "8    15.6\n",
      "9    15.6\n",
      "Name: Display_cleaned, dtype: float64\n"
     ]
    }
   ],
   "source": [
    "df[\"Display_cleaned\"] = df[\"Display_cleaned\"].fillna(display_mean)\n",
    "print(df[\"Display_cleaned\"][:10])"
   ]
  },
  {
   "cell_type": "code",
   "execution_count": 199,
   "metadata": {},
   "outputs": [
    {
     "name": "stdout",
     "output_type": "stream",
     "text": [
      "0                                        8 GB DDR4 RAM\n",
      "1                               1 Year Onsite Warranty\n",
      "2    1 Year Onsite Warranty + 1 Year Accidental Dam...\n",
      "3                               1 Year Onsite Warranty\n",
      "4                               1 Year Onsite Warranty\n",
      "5                               1 Year onsite warranty\n",
      "6                               1 Year Onsite Warranty\n",
      "7                               1 Year Onsite Warranty\n",
      "8                               1 Year Onsite Warranty\n",
      "9                               1 Year Onsite Warranty\n",
      "Name: warranty, dtype: object\n",
      "object\n",
      "14\n",
      "920\n"
     ]
    }
   ],
   "source": [
    "print(df[\"warranty\"].head(10))\n",
    "print(df[\"warranty\"].dtype)\n",
    "print(df[\"warranty\"].isna().sum())\n",
    "total = len(df[\"warranty\"])\n",
    "print(total)"
   ]
  },
  {
   "cell_type": "code",
   "execution_count": null,
   "metadata": {},
   "outputs": [
    {
     "name": "stdout",
     "output_type": "stream",
     "text": [
      "                                            warranty  warranty_years  \\\n",
      "0                                      8 GB DDR4 RAM             1.0   \n",
      "1                             1 Year Onsite Warranty             1.0   \n",
      "2  1 Year Onsite Warranty + 1 Year Accidental Dam...             1.0   \n",
      "3                             1 Year Onsite Warranty             1.0   \n",
      "4                             1 Year Onsite Warranty             1.0   \n",
      "5                             1 Year onsite warranty             1.0   \n",
      "6                             1 Year Onsite Warranty             1.0   \n",
      "7                             1 Year Onsite Warranty             1.0   \n",
      "8                             1 Year Onsite Warranty             1.0   \n",
      "9                             1 Year Onsite Warranty             1.0   \n",
      "\n",
      "   warranty_accidental  \n",
      "0                    0  \n",
      "1                    0  \n",
      "2                    1  \n",
      "3                    0  \n",
      "4                    0  \n",
      "5                    0  \n",
      "6                    0  \n",
      "7                    0  \n",
      "8                    0  \n",
      "9                    0  \n",
     ]
    },
    {
     "name": "stderr",
     "output_type": "stream",
     "text": [
      "C:\\Users\\Administrator\\AppData\\Local\\Temp\\ipykernel_380\\3655015394.py:10: FutureWarning: A value is trying to be set on a copy of a DataFrame or Series through chained assignment using an inplace method.\n",
      "The behavior will change in pandas 3.0. This inplace method will never work because the intermediate object on which we are setting values always behaves as a copy.\n",
      "\n",
      "For example, when doing 'df[col].method(value, inplace=True)', try using 'df.method({col: value}, inplace=True)' or df[col] = df[col].method(value) instead, to perform the operation inplace on the original object.\n",
      "\n",
      "\n",
      "  df[\"warranty_years\"].fillna(mode_year, inplace=True)\n"
     ]
    }
   ],
   "source": [
    "\n",
    "df[\"warranty_clean\"] = df[\"warranty\"].str.lower()  \n",
    "df[\"warranty_clean\"] = df[\"warranty_clean\"].str.strip() \n",
    "\n",
    "\n",
    "df[\"warranty_years\"] = df[\"warranty_clean\"].str.extract(r\"(\\d+)\\s*year\")[0]\n",
    "df[\"warranty_years\"] = pd.to_numeric(df[\"warranty_years\"], errors=\"coerce\")\n",
    "\n",
    "\n",
    "mode_year = df[\"warranty_years\"].mode()[0]  \n",
    "df[\"warranty_years\"].fillna(mode_year, inplace=True)\n",
    "\n",
    "\n",
    "df[\"warranty_accidental\"] = df[\"warranty_clean\"].apply(lambda x: 1 if \"accidental\" in str(x) else 0)\n",
    "\n",
    "\n",
    "print(df[[\"warranty\", \"warranty_years\", \"warranty_accidental\"]].head(10))\n",
    "print( df[\"warranty_years\"].isna().sum())\n"
   ]
  },
  {
   "cell_type": "code",
   "execution_count": 201,
   "metadata": {},
   "outputs": [
    {
     "name": "stdout",
     "output_type": "stream",
     "text": [
      "Index(['Unnamed: 0', 'title', 'price', 'discount', 'Processor', 'RAM', 'OS',\n",
      "       'SSD', 'Display', 'In_build_sw', 'warranty', 'warranty_clean',\n",
      "       'warranty_years', 'warranty_accidental'],\n",
      "      dtype='object')\n"
     ]
    }
   ],
   "source": [
    "print(df.columns)"
   ]
  },
  {
   "cell_type": "code",
   "execution_count": 202,
   "metadata": {},
   "outputs": [
    {
     "name": "stdout",
     "output_type": "stream",
     "text": [
      "0    DELL Vostro Core i3 11th Gen - (8 GB/1 TB HDD/...\n",
      "1    HP 14s Intel Core i3 11th Gen - (8 GB/256 GB S...\n",
      "2    Lenovo V15 G2 Core i3 11th Gen - (8 GB/512 GB ...\n",
      "3    HP 15s Intel Core i3 12th Gen - (8 GB/512 GB S...\n",
      "4    ASUS VivoBook 15 (2022) Core i3 10th Gen - (8 ...\n",
      "5    ASUS TUF Gaming A17 with 90Whr Battery Ryzen 7...\n",
      "6    ASUS TUF Gaming A17 with 90Whr Battery Ryzen 5...\n",
      "7    ASUS VivoBook K15 OLED (2022) Ryzen 5 Hexa Cor...\n",
      "8    HP Ryzen 5 Hexa Core 5500U - (16 GB/512 GB SSD...\n",
      "9    HP 15s Intel Core i5 12th Gen - (8 GB/512 GB S...\n",
      "Name: title, dtype: object\n",
      "0\n"
     ]
    }
   ],
   "source": [
    "print(df[\"title\"][:10])\n",
    "print(df[\"title\"].isna().sum())"
   ]
  },
  {
   "cell_type": "code",
   "execution_count": null,
   "metadata": {},
   "outputs": [
    {
     "name": "stdout",
     "output_type": "stream",
     "text": [
      "                                               title   Brand  \\\n",
      "0  DELL Vostro Core i3 11th Gen - (8 GB/1 TB HDD/...    Dell   \n",
      "1  HP 14s Intel Core i3 11th Gen - (8 GB/256 GB S...      Hp   \n",
      "2  Lenovo V15 G2 Core i3 11th Gen - (8 GB/512 GB ...  Lenovo   \n",
      "3  HP 15s Intel Core i3 12th Gen - (8 GB/512 GB S...      Hp   \n",
      "4  ASUS VivoBook 15 (2022) Core i3 10th Gen - (8 ...    Asus   \n",
      "5  ASUS TUF Gaming A17 with 90Whr Battery Ryzen 7...    Asus   \n",
      "6  ASUS TUF Gaming A17 with 90Whr Battery Ryzen 5...    Asus   \n",
      "7  ASUS VivoBook K15 OLED (2022) Ryzen 5 Hexa Cor...    Asus   \n",
      "8  HP Ryzen 5 Hexa Core 5500U - (16 GB/512 GB SSD...      Hp   \n",
      "9  HP 15s Intel Core i5 12th Gen - (8 GB/512 GB S...      Hp   \n",
      "\n",
      "                                               Model  \n",
      "0                            VOSTRO CORE I3 11TH GEN  \n",
      "1                         14S INTEL CORE I3 11TH GEN  \n",
      "2                            V15 G2 CORE I3 11TH GEN  \n",
      "3                         15S INTEL CORE I3 12TH GEN  \n",
      "4                                        VIVOBOOK 15  \n",
      "5  TUF GAMING A17 WITH 90WHR BATTERY RYZEN 7 OCTA...  \n",
      "6  TUF GAMING A17 WITH 90WHR BATTERY RYZEN 5 HEXA...  \n",
      "7                                  VIVOBOOK K15 OLED  \n",
      "8                            RYZEN 5 HEXA CORE 5500U  \n",
      "9                         15S INTEL CORE I5 12TH GEN  \n"
     ]
    }
   ],
   "source": [
    "df[\"title_clean\"] = df[\"title\"].str.lower().str.strip()\n",
    "df[\"Brand\"] = df[\"title_clean\"].str.split().str[0].str.capitalize()\n",
    "df[\"Model\"] = df[\"title_clean\"].str.extract(r'^[a-zA-Z]+[\\s-]+([^\\(\\-]+)')[0].str.strip().str.upper()\n",
    "print(df[[\"title\", \"Brand\", \"Model\"]].head(10))"
   ]
  },
  {
   "cell_type": "code",
   "execution_count": 281,
   "metadata": {},
   "outputs": [
    {
     "name": "stdout",
     "output_type": "stream",
     "text": [
      "0\n",
      "2\n"
     ]
    }
   ],
   "source": [
    "print(df[\"Brand\"].isna().sum())\n",
    "print(df[\"Model\"].isna().sum())\n",
    "df[\"Model\"] = df[\"Model\"].fillna(\"unknown\")"
   ]
  },
  {
   "cell_type": "code",
   "execution_count": null,
   "metadata": {},
   "outputs": [
    {
     "name": "stdout",
     "output_type": "stream",
     "text": [
      "                                           Processor  intel  amd_quad  \\\n",
      "0  Processor: Intel i3-1115G4 (Base- 1.7 GHz & Tu...    3.0         0   \n",
      "1                 Intel Core i3 Processor (11th Gen)    3.0         0   \n",
      "2                 Intel Core i3 Processor (11th Gen)    3.0         0   \n",
      "3                 Intel Core i3 Processor (12th Gen)    3.0         0   \n",
      "4                 Intel Core i3 Processor (10th Gen)    3.0         0   \n",
      "5                    AMD Ryzen 7 Octa Core Processor    0.0         0   \n",
      "6                    AMD Ryzen 5 Hexa Core Processor    0.0         0   \n",
      "7                    AMD Ryzen 5 Hexa Core Processor    0.0         0   \n",
      "8                    AMD Ryzen 5 Hexa Core Processor    0.0         0   \n",
      "9                 Intel Core i5 Processor (12th Gen)    5.0         0   \n",
      "\n",
      "   amd_hexa  amd_octa  \n",
      "0         0         0  \n",
      "1         0         0  \n",
      "2         0         0  \n",
      "3         0         0  \n",
      "4         0         0  \n",
      "5         0         7  \n",
      "6         5         0  \n",
      "7         5         0  \n",
      "8         5         0  \n",
      "9         0         0  \n"
     ]
    }
   ],
   "source": [
    "import numpy as np\n",
    "import pandas as pd\n",
    "\n",
    "df[\"Processor\"] = df[\"Processor\"].astype(str)\n",
    "\n",
    "df[\"intel\"] = 0\n",
    "df[\"amd_quad\"] = 0\n",
    "df[\"amd_hexa\"] = 0\n",
    "df[\"amd_octa\"] = 0\n",
    "\n",
    "intel_mask = df[\"Processor\"].str.contains(\"Intel\", case=False)\n",
    "df.loc[intel_mask, \"intel\"] = df.loc[intel_mask, \"Processor\"].str.extract(r'i(\\d)')[0].astype(float)\n",
    "\n",
    "amd_quad_mask = df[\"Processor\"].str.contains(\"AMD\") & df[\"Processor\"].str.contains(\"Quad\")\n",
    "amd_hexa_mask = df[\"Processor\"].str.contains(\"AMD\") & df[\"Processor\"].str.contains(\"Hexa\")\n",
    "amd_octa_mask = df[\"Processor\"].str.contains(\"AMD\") & df[\"Processor\"].str.contains(\"Octa\")\n",
    "\n",
    "df.loc[amd_quad_mask, \"amd_quad\"] = df.loc[amd_quad_mask, \"Processor\"].str.extract(r'(\\d)')[0].astype(float)\n",
    "df.loc[amd_hexa_mask, \"amd_hexa\"] = df.loc[amd_hexa_mask, \"Processor\"].str.extract(r'(\\d)')[0].astype(float)\n",
    "df.loc[amd_octa_mask, \"amd_octa\"] = df.loc[amd_octa_mask, \"Processor\"].str.extract(r'(\\d)')[0].astype(float)\n",
    "\n",
    "print(df[[\"Processor\", \"intel\", \"amd_quad\", \"amd_hexa\", \"amd_octa\"]].head(10))\n"
   ]
  },
  {
   "cell_type": "code",
   "execution_count": 279,
   "metadata": {},
   "outputs": [
    {
     "name": "stdout",
     "output_type": "stream",
     "text": [
      "0\n"
     ]
    }
   ],
   "source": [
    "print(df[\"Processor\"].isna().sum())"
   ]
  },
  {
   "cell_type": "code",
   "execution_count": 291,
   "metadata": {},
   "outputs": [
    {
     "name": "stdout",
     "output_type": "stream",
     "text": [
      "                                       SSD  ssd(GB)  hdd(GB)\n",
      "0  Display: 15.6\" FHD WVA AG Narrow Border      0.0      0.0\n",
      "1                               256 GB SSD    256.0      0.0\n",
      "2                               512 GB SSD    512.0      0.0\n",
      "3                               512 GB SSD    512.0      0.0\n",
      "4                               512 GB SSD    512.0      0.0\n",
      "5                               512 GB SSD    512.0      0.0\n",
      "6                               512 GB SSD    512.0      0.0\n",
      "7                      1 TB HDD|256 GB SSD    256.0   1024.0\n",
      "8                               512 GB SSD    512.0      0.0\n",
      "9                               512 GB SSD    512.0      0.0\n"
     ]
    },
    {
     "name": "stderr",
     "output_type": "stream",
     "text": [
      "C:\\Users\\Administrator\\AppData\\Local\\Temp\\ipykernel_380\\513704141.py:59: FutureWarning: A value is trying to be set on a copy of a DataFrame or Series through chained assignment using an inplace method.\n",
      "The behavior will change in pandas 3.0. This inplace method will never work because the intermediate object on which we are setting values always behaves as a copy.\n",
      "\n",
      "For example, when doing 'df[col].method(value, inplace=True)', try using 'df.method({col: value}, inplace=True)' or df[col] = df[col].method(value) instead, to perform the operation inplace on the original object.\n",
      "\n",
      "\n",
      "  df[\"warranty_years\"].fillna(mode_year, inplace=True)\n"
     ]
    },
    {
     "name": "stdout",
     "output_type": "stream",
     "text": [
      "    brand                       model  price  discount  ram_DDR4  ram_DDR5  \\\n",
      "0    Dell     VOSTRO CORE I3 11TH GEN  37990      35.0       8.0       0.0   \n",
      "1      Hp  14S INTEL CORE I3 11TH GEN  35490      24.0       8.0       0.0   \n",
      "2  Lenovo     V15 G2 CORE I3 11TH GEN  33999      43.0       8.0       0.0   \n",
      "3      Hp  15S INTEL CORE I3 12TH GEN  45490      19.0       8.0       0.0   \n",
      "4    Asus                 VIVOBOOK 15  33990      26.0       8.0       0.0   \n",
      "\n",
      "   ram_lpddr4x   bit windows  ssd(GB)  hdd(GB)  display  warranty_years  \\\n",
      "0          0.0   0.0   other      0.0      0.0     15.0             1.0   \n",
      "1          0.0  64.0    11.0    256.0      0.0     14.0             1.0   \n",
      "2          0.0  64.0    11.0    512.0      0.0     15.6             1.0   \n",
      "3          0.0  64.0    11.0    512.0      0.0     15.6             1.0   \n",
      "4          0.0  64.0    11.0    512.0      0.0     15.6             1.0   \n",
      "\n",
      "   warranty_accidental  processor_amd_quad  processor_amd_octa  \\\n",
      "0                    0                   0                   0   \n",
      "1                    0                   0                   0   \n",
      "2                    1                   0                   0   \n",
      "3                    0                   0                   0   \n",
      "4                    0                   0                   0   \n",
      "\n",
      "   processor_amd_hexa  processor_intel  \n",
      "0                   0              3.0  \n",
      "1                   0              3.0  \n",
      "2                   0              3.0  \n",
      "3                   0              3.0  \n",
      "4                   0              3.0  \n"
     ]
    }
   ],
   "source": [
    "df = pd.read_csv(\"laptops.csv\")\n",
    "\n",
    "df[\"title_clean\"] = df[\"title\"].str.lower().str.strip()\n",
    "df[\"Brand\"] = df[\"title_clean\"].str.split().str[0].str.capitalize()\n",
    "df[\"Model\"] = df[\"title_clean\"].str.extract(r'^[a-zA-Z]+[\\s-]+([^\\(\\-]+)')[0].str.strip().str.upper()\n",
    "\n",
    "df[\"price_cleaned\"] = df[\"price\"].str.replace(\"₹\",\"\",regex=False).str.replace(\",\",\"\",regex=True)\n",
    "df[\"price_cleaned\"] = pd.to_numeric(df[\"price_cleaned\"], errors=\"coerce\")\n",
    "price_mean = df[\"price_cleaned\"].mean(skipna=True)\n",
    "df[\"price_cleaned\"] = df[\"price_cleaned\"].fillna(price_mean)\n",
    "df[\"price_cleaned\"] = df[\"price_cleaned\"].round(0)\n",
    "df[\"price_cleaned\"] = df[\"price_cleaned\"].fillna(price_mean).astype(int)\n",
    "\n",
    "df[\"discount_new\"] = df[\"discount\"].astype(str)\n",
    "df[\"discount_new\"] = df[\"discount_new\"].str.extract(r'(\\d{2})%')[0]\n",
    "df[\"discount_new\"] = pd.to_numeric(df[\"discount_new\"], errors=\"coerce\")\n",
    "discount_mean = df[\"discount_new\"].mean(skipna=True)\n",
    "df[\"discount_new\"] = round(df[\"discount_new\"].fillna(discount_mean),2)\n",
    "\n",
    "df[\"RAM\"] = df[\"RAM\"].astype(str)\n",
    "df[\"RAM_cleaned\"] = df[\"RAM\"].str.extract(r'(\\d+)\\s*GB')[0].astype(float)\n",
    "df[\"ram_type\"] = df[\"RAM\"].str.extract(r'(LPDDR4X|DDR5|DDR4)', expand=False)\n",
    "\n",
    "df[\"ddr4\"] = np.where(df[\"ram_type\"] == \"DDR4\", df[\"RAM_cleaned\"], 0)\n",
    "df[\"ddr5\"] = np.where(df[\"ram_type\"] == \"DDR5\", df[\"RAM_cleaned\"], 0)\n",
    "df[\"lpddr4x\"] = np.where(df[\"ram_type\"] == \"LPDDR4X\", df[\"RAM_cleaned\"], 0)\n",
    "\n",
    "df[\"os_bit\"] = df[\"OS\"].str.extract(r\"(\\d+)\\s*bit\")[0]\n",
    "df[\"os_windows\"] = df[\"OS\"].str.extract(r\"Windows\\s*(\\d+)\")[0]\n",
    "df[\"os_bit\"] = pd.to_numeric(df[\"os_bit\"] , errors=\"coerce\")\n",
    "df[\"os_windows\"] = pd.to_numeric(df[\"os_windows\"] , errors=\"coerce\")\n",
    "df[\"os_bit\"] = df[\"os_bit\"].fillna(0)\n",
    "df[\"os_windows\"] = df[\"os_windows\"].fillna(\"other\")\n",
    "\n",
    "df[\"SSD\"] = df[\"SSD\"].fillna(\"\").astype(str).str.strip()\n",
    "df_exp = df.assign(part=df[\"SSD\"].str.split(\"|\")).explode(\"part\")\n",
    "df_exp[\"part\"] = df_exp[\"part\"].str.strip()\n",
    "df_exp[\"ssd(GB)\"] = 0\n",
    "df_exp[\"hdd(GB)\"] = 0\n",
    "df_exp[[\"size\", \"unit\"]] = df_exp[\"part\"].str.extract(r'([\\d.]+)\\s*(TB|GB)', expand=True)\n",
    "df_exp[\"size\"] = df_exp[\"size\"].astype(float)\n",
    "df_exp[\"size_gb\"] = np.where(df_exp[\"unit\"].str.lower() == \"tb\", df_exp[\"size\"] * 1024, df_exp[\"size\"])\n",
    "df_exp[\"ssd(GB)\"] = np.where(df_exp[\"part\"].str.contains(\"SSD\", case=False), df_exp[\"size_gb\"], 0)\n",
    "df_exp[\"hdd(GB)\"] = np.where(df_exp[\"part\"].str.contains(\"HDD\", case=False), df_exp[\"size_gb\"], 0)\n",
    "df[[\"ssd(GB)\", \"hdd(GB)\"]] = df_exp.groupby(df_exp.index)[[\"ssd(GB)\", \"hdd(GB)\"]].sum().fillna(0)\n",
    "print(df[[\"SSD\", \"ssd(GB)\", \"hdd(GB)\"]].head(10))\n",
    "\n",
    "df[\"Display\"] = df[\"Display\"].str.replace(\"Inch\",\"inch\")\n",
    "df[\"Display\"] = df[\"Display\"].str.extract(r\"\\(?(\\d+\\.?\\d*)\\s*inch\")[0]\n",
    "df[\"Display_cleaned\"] = pd.to_numeric(df[\"Display\"], errors=\"coerce\")\n",
    "display_mean = round(df[\"Display_cleaned\"].mean(skipna=True),1)\n",
    "df[\"Display_cleaned\"] = df[\"Display_cleaned\"].fillna(display_mean)\n",
    "\n",
    "df[\"warranty_clean\"] = df[\"warranty\"].str.lower()  \n",
    "df[\"warranty_clean\"] = df[\"warranty_clean\"].str.strip() \n",
    "df[\"warranty_years\"] = df[\"warranty_clean\"].str.extract(r\"(\\d+)\\s*year\")[0]\n",
    "df[\"warranty_years\"] = pd.to_numeric(df[\"warranty_years\"], errors=\"coerce\")\n",
    "mode_year = df[\"warranty_years\"].mode()[0]  \n",
    "df[\"warranty_years\"].fillna(mode_year, inplace=True)\n",
    "df[\"warranty_accidental\"] = df[\"warranty_clean\"].apply(lambda x: 1 if \"accidental\" in str(x) else 0)\n",
    "\n",
    "df[\"Processor\"] = df[\"Processor\"].astype(str)\n",
    "df[\"intel\"] = 0\n",
    "df[\"amd_quad\"] = 0\n",
    "df[\"amd_hexa\"] = 0\n",
    "df[\"amd_octa\"] = 0\n",
    "intel_mask = df[\"Processor\"].str.contains(\"Intel\")\n",
    "df.loc[intel_mask, \"intel\"] = df.loc[intel_mask, \"Processor\"].str.extract(r'i(\\d)')[0].astype(float)\n",
    "amd_quad_mask = df[\"Processor\"].str.contains(\"AMD\") & df[\"Processor\"].str.contains(\"Quad\")\n",
    "amd_hexa_mask = df[\"Processor\"].str.contains(\"AMD\") & df[\"Processor\"].str.contains(\"Hexa\")\n",
    "amd_octa_mask = df[\"Processor\"].str.contains(\"AMD\") & df[\"Processor\"].str.contains(\"Octa\")\n",
    "df.loc[amd_quad_mask, \"amd_quad\"] = df.loc[amd_quad_mask, \"Processor\"].str.extract(r'(\\d)')[0].astype(float)\n",
    "df.loc[amd_hexa_mask, \"amd_hexa\"] = df.loc[amd_hexa_mask, \"Processor\"].str.extract(r'(\\d)')[0].astype(float)\n",
    "df.loc[amd_octa_mask, \"amd_octa\"] = df.loc[amd_octa_mask, \"Processor\"].str.extract(r'(\\d)')[0].astype(float)\n",
    "\n",
    "\n",
    "brand = df[\"Brand\"]\n",
    "model = df[\"Model\"]\n",
    "price = df[\"price_cleaned\"]\n",
    "discount = df[\"discount_new\"]\n",
    "ram_DDR4 =  df[\"ddr4\"]\n",
    "ram_DDR5 = df[\"ddr5\"]\n",
    "ram_lpddr4x = df[\"lpddr4x\"]\n",
    "bit = df[\"os_bit\"]\n",
    "windows = df[\"os_windows\"]\n",
    "ssd = df[\"ssd(GB)\"]\n",
    "hdd = df[\"hdd(GB)\"]\n",
    "display = df[\"Display_cleaned\"]\n",
    "warranty_years = df[\"warranty_years\"]\n",
    "warranty_accidental = df[\"warranty_accidental\"]\n",
    "processor_amd_quad = df[\"amd_quad\"]\n",
    "processor_amd_octa = df[\"amd_octa\"]\n",
    "processor_amd_hexa = df[\"amd_hexa\"]\n",
    "processor_intel = df[\"intel\"]\n",
    "\n",
    "df_new = pd.DataFrame({\n",
    "    \"brand\":brand,\n",
    "    \"model\":model,\n",
    "    \"price\":price,\n",
    "    \"discount\":discount,\n",
    "    \"ram_DDR4\":ram_DDR4,\n",
    "    \"ram_DDR5\":ram_DDR5,\n",
    "    \"ram_lpddr4x\":ram_lpddr4x,\n",
    "    \"bit\":bit,\n",
    "    \"windows\":windows,\n",
    "    \"ssd(GB)\":ssd,\n",
    "    \"hdd(GB)\":hdd,\n",
    "    \"display\":display,\n",
    "    \"warranty_years\":warranty_years,\n",
    "    \"warranty_accidental\":warranty_accidental,\n",
    "    \"processor_amd_quad\":processor_amd_quad,\n",
    "    \"processor_amd_octa\":processor_amd_octa,\n",
    "    \"processor_amd_hexa\":processor_amd_hexa,\n",
    "    \"processor_intel\":processor_intel\n",
    "\n",
    "})\n",
    "df_new.to_csv(\"cleaned_laptops.csv\", index=False)\n",
    "df_new.to_excel(\"cleaned_laptops.xlsx\", index=False)\n",
    "\n",
    "print(df_new.head(5))\n",
    "    \n"
   ]
  },
  {
   "cell_type": "code",
   "execution_count": null,
   "metadata": {},
   "outputs": [
    {
     "data": {
      "image/png": "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",
      "text/plain": [
       "<Figure size 640x480 with 1 Axes>"
      ]
     },
     "metadata": {},
     "output_type": "display_data"
    }
   ],
   "source": [
    "import matplotlib.pyplot as plt\n",
    "import numpy as np\n",
    "\n",
    "#distribution of laptop prices\n",
    "\n",
    "plt.hist(df_new['price'].values / 1000, bins=30, color='skyblue')\n",
    "plt.title(\"Distribution of Laptop Prices (in Thousands ₹)\")\n",
    "plt.xlabel(\"Price (₹000)\")\n",
    "plt.ylabel(\"Count\")\n",
    "plt.show()\n",
    "#with this chart you can find out the number of expensive, cheap and average price of laptops. \n",
    "#and additionally, i guess that a company supporter can easily give pieces of advise (about prices) \n",
    "#to their costumers based on this chart."
   ]
  },
  {
   "cell_type": "code",
   "execution_count": null,
   "metadata": {},
   "outputs": [
    {
     "data": {
      "image/png": "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",
      "text/plain": [
       "<Figure size 640x480 with 1 Axes>"
      ]
     },
     "metadata": {},
     "output_type": "display_data"
    }
   ],
   "source": [
    "df_new[\"ram_type\"] = df_new[[\"ram_DDR4\", \"ram_DDR5\", \"ram_lpddr4x\"]].idxmax(axis=1)\n",
    "df_new[\"ram_type\"] = df_new[\"ram_type\"].replace({\n",
    "    \"ram_DDR4\": \"DDR4\",\n",
    "    \"ram_DDR5\": \"DDR5\",\n",
    "    \"ram_lpddr4x\": \"LPDDR4x\"\n",
    "})\n",
    "\n",
    "avg_prices = df_new.groupby(\"ram_type\")[\"price\"].mean().sort_values()\n",
    "\n",
    "plt.bar(avg_prices.index, avg_prices.values, color='skyblue')\n",
    "plt.title(\"Average Laptop Price by RAM Type\")\n",
    "plt.xlabel(\"RAM Type\")\n",
    "plt.ylabel(\"Average Price (₹)\")\n",
    "plt.show()\n",
    "\n",
    "# i wanted to show how effective the RAM is in the field of price.\n",
    "#and as it highlights, the DDR5 rams are the most expensive ones\n",
    "#therefore, the type and size of the ram has got impact on the price"
   ]
  },
  {
   "cell_type": "code",
   "execution_count": null,
   "metadata": {},
   "outputs": [
    {
     "data": {
      "image/png": "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",
      "text/plain": [
       "<Figure size 640x480 with 1 Axes>"
      ]
     },
     "metadata": {},
     "output_type": "display_data"
    }
   ],
   "source": [
    "plt.scatter(df_new['display'], df_new['price'], color='green')\n",
    "plt.title(\"Price vs Display Size\")\n",
    "plt.xlabel(\"Display (inch)\")\n",
    "plt.ylabel(\"Price (₹)\")\n",
    "plt.show()\n",
    "\n",
    "#Laptop prices don't have a very direct and clear relationship with screen size,\n",
    "#but laptops with larger screens (like 16 and 17 inches) are usually more expensive."
   ]
  },
  {
   "cell_type": "code",
   "execution_count": null,
   "metadata": {},
   "outputs": [
    {
     "data": {
      "image/png": "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",
      "text/plain": [
       "<Figure size 640x480 with 1 Axes>"
      ]
     },
     "metadata": {},
     "output_type": "display_data"
    }
   ],
   "source": [
    "plt.scatter(df_new['price'], df_new['discount'], color='red')\n",
    "plt.title(\"Discount vs Price\")\n",
    "plt.xlabel(\"Price (₹)\")\n",
    "plt.ylabel(\"Discount (%)\")\n",
    "plt.show()\n",
    "#The relationship between discount and price is negative\n",
    "# all in all, the lower the price, the lower the discount\n",
    "#sellers give more discounts on cheaper products to sell more\n",
    "#But more luxurious products maintain their profit margins"
   ]
  },
  {
   "cell_type": "code",
   "execution_count": null,
   "metadata": {},
   "outputs": [
    {
     "data": {
      "image/png": "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",
      "text/plain": [
       "<Figure size 640x480 with 1 Axes>"
      ]
     },
     "metadata": {},
     "output_type": "display_data"
    }
   ],
   "source": [
    "import matplotlib.pyplot as plt\n",
    "\n",
    "max_price_by_brand = df_new.groupby('brand')['price'].max().sort_values(ascending=False)\n",
    "\n",
    "plt.bar(range(len(max_price_by_brand)), max_price_by_brand.values)\n",
    "plt.title(\"the most expansive brands\")\n",
    "plt.xlabel(\"brand\")\n",
    "plt.ylabel('price')\n",
    "plt.xticks(range(len(max_price_by_brand)), max_price_by_brand.index, rotation=45)\n",
    "plt.show()\n",
    "\n",
    "# you can see the most expensive and the cheapest brands in this chart.\n"
   ]
  }
 ],
 "metadata": {
  "kernelspec": {
   "display_name": "Python 3",
   "language": "python",
   "name": "python3"
  },
  "language_info": {
   "codemirror_mode": {
    "name": "ipython",
    "version": 3
   },
   "file_extension": ".py",
   "mimetype": "text/x-python",
   "name": "python",
   "nbconvert_exporter": "python",
   "pygments_lexer": "ipython3",
   "version": "3.13.0"
  }
 },
 "nbformat": 4,
 "nbformat_minor": 2
}
