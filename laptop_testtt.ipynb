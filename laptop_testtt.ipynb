{
 "cells": [
  {
   "cell_type": "code",
   "execution_count": null,
   "metadata": {},
   "outputs": [
    {
     "name": "stdout",
     "output_type": "stream",
     "text": [
      "   Unnamed: 0                                              title    price  \\\n",
      "0           0  DELL Vostro Core i3 11th Gen - (8 GB/1 TB HDD/...  ₹37,990   \n",
      "1           1  HP 14s Intel Core i3 11th Gen - (8 GB/256 GB S...  ₹35,490   \n",
      "2           2  Lenovo V15 G2 Core i3 11th Gen - (8 GB/512 GB ...  ₹33,999   \n",
      "3           3  HP 15s Intel Core i3 12th Gen - (8 GB/512 GB S...  ₹45,490   \n",
      "4           4  ASUS VivoBook 15 (2022) Core i3 10th Gen - (8 ...  ₹33,990   \n",
      "\n",
      "         discount                                          Processor  \\\n",
      "0  ₹58,48935% off  Processor: Intel i3-1115G4 (Base- 1.7 GHz & Tu...   \n",
      "1  ₹47,20624% off                 Intel Core i3 Processor (11th Gen)   \n",
      "2  ₹59,76043% off                 Intel Core i3 Processor (11th Gen)   \n",
      "3  ₹56,26019% off                 Intel Core i3 Processor (12th Gen)   \n",
      "4  ₹45,99026% off                 Intel Core i3 Processor (10th Gen)   \n",
      "\n",
      "                                             RAM  \\\n",
      "0  RAM & Storage: 8GB DDR4 & 1TB HDD + 256GB SSD   \n",
      "1                                  8 GB DDR4 RAM   \n",
      "2                                  8 GB DDR4 RAM   \n",
      "3                                  8 GB DDR4 RAM   \n",
      "4                                  8 GB DDR4 RAM   \n",
      "\n",
      "                                                  OS  \\\n",
      "0  Graphics & Keyboard: Integrated & Standard Key...   \n",
      "1                 64 bit Windows 11 Operating System   \n",
      "2                 64 bit Windows 11 Operating System   \n",
      "3                 64 bit Windows 11 Operating System   \n",
      "4                 64 bit Windows 11 Operating System   \n",
      "\n",
      "                                       SSD  \\\n",
      "0  Display: 15.6\" FHD WVA AG Narrow Border   \n",
      "1                               256 GB SSD   \n",
      "2                               512 GB SSD   \n",
      "3                               512 GB SSD   \n",
      "4                               512 GB SSD   \n",
      "\n",
      "                              Display                           In_build_sw  \\\n",
      "0  Intel Core i3 Processor (11th Gen)                                   NaN   \n",
      "1          35.56 cm (14 inch) Display                                   NaN   \n",
      "2        39.62 cm (15.6 Inch) Display                                    No   \n",
      "3        39.62 cm (15.6 Inch) Display  Microsoft Office Home & Student 2021   \n",
      "4        39.62 cm (15.6 inch) Display          Office Home and Student 2021   \n",
      "\n",
      "                                            warranty  \n",
      "0                                      8 GB DDR4 RAM  \n",
      "1                             1 Year Onsite Warranty  \n",
      "2  1 Year Onsite Warranty + 1 Year Accidental Dam...  \n",
      "3                             1 Year Onsite Warranty  \n",
      "4                             1 Year Onsite Warranty  \n"
     ]
    }
   ],
   "source": [
    "import pandas as pd\n",
    "import numpy as np\n",
    "import matplotlib.pyplot as plt\n",
    "\n",
    "df = pd.read_csv(\"laptops.csv\")\n",
    "print(df.head(5))"
   ]
  },
  {
   "cell_type": "code",
   "execution_count": 3,
   "metadata": {},
   "outputs": [
    {
     "name": "stdout",
     "output_type": "stream",
     "text": [
      "Index(['Unnamed: 0', 'title', 'price', 'discount', 'Processor', 'RAM', 'OS',\n",
      "       'SSD', 'Display', 'In_build_sw', 'warranty'],\n",
      "      dtype='object')\n"
     ]
    }
   ],
   "source": [
    "print(df.columns)"
   ]
  },
  {
   "cell_type": "code",
   "execution_count": 4,
   "metadata": {},
   "outputs": [
    {
     "name": "stdout",
     "output_type": "stream",
     "text": [
      "<class 'pandas.core.frame.DataFrame'>\n",
      "RangeIndex: 920 entries, 0 to 919\n",
      "Data columns (total 11 columns):\n",
      " #   Column       Non-Null Count  Dtype \n",
      "---  ------       --------------  ----- \n",
      " 0   Unnamed: 0   920 non-null    int64 \n",
      " 1   title        920 non-null    object\n",
      " 2   price        920 non-null    object\n",
      " 3   discount     831 non-null    object\n",
      " 4   Processor    920 non-null    object\n",
      " 5   RAM          920 non-null    object\n",
      " 6   OS           920 non-null    object\n",
      " 7   SSD          920 non-null    object\n",
      " 8   Display      920 non-null    object\n",
      " 9   In_build_sw  357 non-null    object\n",
      " 10  warranty     906 non-null    object\n",
      "dtypes: int64(1), object(10)\n",
      "memory usage: 79.2+ KB\n",
      "None\n"
     ]
    }
   ],
   "source": [
    "print(df.info())"
   ]
  },
  {
   "cell_type": "code",
   "execution_count": 7,
   "metadata": {},
   "outputs": [
    {
     "name": "stdout",
     "output_type": "stream",
     "text": [
      "(920, 11)\n"
     ]
    }
   ],
   "source": [
    "print(df.shape)"
   ]
  },
  {
   "cell_type": "code",
   "execution_count": 12,
   "metadata": {},
   "outputs": [
    {
     "name": "stdout",
     "output_type": "stream",
     "text": [
      "Index(['title', 'price', 'discount', 'Processor', 'RAM', 'OS', 'SSD',\n",
      "       'Display', 'In_build_sw', 'warranty'],\n",
      "      dtype='object')\n"
     ]
    }
   ],
   "source": [
    "df.drop(columns=[\"Unnamed: 0\"] , inplace=True)\n",
    "print(df.columns)"
   ]
  },
  {
   "cell_type": "code",
   "execution_count": 18,
   "metadata": {},
   "outputs": [
    {
     "name": "stdout",
     "output_type": "stream",
     "text": [
      "0     ₹37,990\n",
      "1     ₹35,490\n",
      "2     ₹33,999\n",
      "3     ₹45,490\n",
      "4     ₹33,990\n",
      "5     ₹67,990\n",
      "6     ₹52,990\n",
      "7     ₹47,990\n",
      "8     ₹49,123\n",
      "9     ₹57,499\n",
      "10    ₹62,990\n",
      "11    ₹29,990\n",
      "12    ₹39,990\n",
      "13    ₹27,799\n",
      "14    ₹26,990\n",
      "15    ₹35,990\n",
      "16    ₹54,990\n",
      "17    ₹20,990\n",
      "18    ₹39,990\n",
      "19    ₹23,990\n",
      "Name: price, dtype: object\n"
     ]
    }
   ],
   "source": [
    "print(df[\"price\"][:20])\n"
   ]
  },
  {
   "cell_type": "code",
   "execution_count": 25,
   "metadata": {},
   "outputs": [
    {
     "name": "stdout",
     "output_type": "stream",
     "text": [
      "int64\n"
     ]
    }
   ],
   "source": [
    "print(df[\"price\"].dtype)"
   ]
  },
  {
   "cell_type": "code",
   "execution_count": null,
   "metadata": {},
   "outputs": [
    {
     "name": "stdout",
     "output_type": "stream",
     "text": [
      "0    37990\n",
      "1    35490\n",
      "2    33999\n",
      "3    45490\n",
      "4    33990\n",
      "5    67990\n",
      "6    52990\n",
      "7    47990\n",
      "8    49123\n",
      "9    57499\n",
      "Name: price_cleaned, dtype: int64\n"
     ]
    }
   ],
   "source": [
    "df[\"price_cleaned\"] = df[\"price\"].str.replace(\"₹\",\"\",regex=False).str.replace(\",\",\"\",regex=True)\n",
    "df[\"price_cleaned\"] = pd.to_numeric(df[\"price_cleaned\"], errors=\"coerce\")\n",
    "\n",
    "price_mean = df[\"price_cleaned\"].mean(skipna=True)\n",
    "df[\"price_cleaned\"] = df[\"price_cleaned\"].fillna(price_mean)\n",
    "\n",
    "df[\"price_cleaned\"] = df[\"price_cleaned\"].round(0)\n",
    "\n",
    "print(df[\"price_cleaned\"].head(10))\n",
    "df[\"price_cleaned\"] = df[\"price_cleaned\"].fillna(price_mean).astype(int)\n",
    "\n"
   ]
  },
  {
   "cell_type": "code",
   "execution_count": null,
   "metadata": {},
   "outputs": [
    {
     "name": "stdout",
     "output_type": "stream",
     "text": [
      "89\n",
      "920\n"
     ]
    }
   ],
   "source": [
    "nan = df[\"discount\"].isna().sum()\n",
    "print(nan)\n",
    "total = len(df[\"discount\"])\n",
    "print(total)\n",
    "#so we can go for replacing the mean with the nan s"
   ]
  },
  {
   "cell_type": "code",
   "execution_count": 214,
   "metadata": {},
   "outputs": [
    {
     "name": "stdout",
     "output_type": "stream",
     "text": [
      "23.646772228989036\n",
      "0     35.0\n",
      "1     24.0\n",
      "2     43.0\n",
      "3     19.0\n",
      "4     26.0\n",
      "5     28.0\n",
      "6     26.0\n",
      "7     39.0\n",
      "8     16.0\n",
      "9     18.0\n",
      "10    16.0\n",
      "11    31.0\n",
      "12    33.0\n",
      "13    31.0\n",
      "14    37.0\n",
      "15    36.0\n",
      "16    22.0\n",
      "17    30.0\n",
      "18    19.0\n",
      "19    29.0\n",
      "Name: discount_new, dtype: float64\n"
     ]
    }
   ],
   "source": [
    "df = pd.read_csv(\"laptops.csv\")\n",
    "df[\"discount_new\"] = df[\"discount\"].astype(str)\n",
    "\n",
    "df[\"discount_new\"] = df[\"discount_new\"].str.extract(r'(\\d{2})%')[0]\n",
    "\n",
    "df[\"discount_new\"] = pd.to_numeric(df[\"discount_new\"], errors=\"coerce\")\n",
    "\n",
    "discount_mean = df[\"discount_new\"].mean(skipna=True)\n",
    "df[\"discount_new\"] = round(df[\"discount_new\"].fillna(discount_mean),2)\n",
    "\n",
    "print(discount_mean)\n",
    "print(df[\"discount_new\"][:20])"
   ]
  },
  {
   "cell_type": "code",
   "execution_count": 82,
   "metadata": {},
   "outputs": [
    {
     "name": "stdout",
     "output_type": "stream",
     "text": [
      "0     RAM & Storage: 8GB DDR4 & 1TB HDD + 256GB SSD\n",
      "1                                     8 GB DDR4 RAM\n",
      "2                                     8 GB DDR4 RAM\n",
      "3                                     8 GB DDR4 RAM\n",
      "4                                     8 GB DDR4 RAM\n",
      "5                                     8 GB DDR4 RAM\n",
      "6                                     8 GB DDR4 RAM\n",
      "7                                     8 GB DDR4 RAM\n",
      "8                                    16 GB DDR4 RAM\n",
      "9                                     8 GB DDR4 RAM\n",
      "10                                    8 GB DDR4 RAM\n",
      "11                                    8 GB DDR4 RAM\n",
      "12                                    8 GB DDR4 RAM\n",
      "13                                    8 GB DDR4 RAM\n",
      "14                                    8 GB DDR4 RAM\n",
      "15                                    8 GB DDR4 RAM\n",
      "16                                    8 GB DDR4 RAM\n",
      "17                                 4 GB LPDDR4X RAM\n",
      "18                                    8 GB DDR4 RAM\n",
      "19                                    4 GB DDR4 RAM\n",
      "Name: RAM, dtype: object\n",
      "object\n",
      "0\n"
     ]
    }
   ],
   "source": [
    "print(df[\"RAM\"].head(20))\n",
    "print(df[\"RAM\"].dtype)\n",
    "print(df[\"RAM\"].isna().sum())"
   ]
  },
  {
   "cell_type": "code",
   "execution_count": 274,
   "metadata": {},
   "outputs": [
    {
     "name": "stdout",
     "output_type": "stream",
     "text": [
      "                                             RAM  ddr4  ddr5  lpddr4x\n",
      "0  RAM & Storage: 8GB DDR4 & 1TB HDD + 256GB SSD   8.0   0.0      0.0\n",
      "1                                  8 GB DDR4 RAM   8.0   0.0      0.0\n",
      "2                                  8 GB DDR4 RAM   8.0   0.0      0.0\n",
      "3                                  8 GB DDR4 RAM   8.0   0.0      0.0\n",
      "4                                  8 GB DDR4 RAM   8.0   0.0      0.0\n",
      "5                                  8 GB DDR4 RAM   8.0   0.0      0.0\n",
      "6                                  8 GB DDR4 RAM   8.0   0.0      0.0\n",
      "7                                  8 GB DDR4 RAM   8.0   0.0      0.0\n",
      "8                                 16 GB DDR4 RAM  16.0   0.0      0.0\n",
      "9                                  8 GB DDR4 RAM   8.0   0.0      0.0\n"
     ]
    }
   ],
   "source": [
    "df = pd.read_csv(\"laptops.csv\")\n",
    "import numpy as np\n",
    "\n",
    "\n",
    "df[\"RAM\"] = df[\"RAM\"].astype(str)\n",
    "\n",
    "df[\"RAM_cleaned\"] = df[\"RAM\"].str.extract(r'(\\d+)\\s*GB')[0].astype(float)\n",
    "\n",
    "df[\"ram_type\"] = df[\"RAM\"].str.extract(r'(LPDDR4X|DDR5|DDR4)', expand=False)\n",
    "\n",
    "df[\"ddr4\"] = np.where(df[\"ram_type\"] == \"DDR4\", df[\"RAM_cleaned\"], 0)\n",
    "df[\"ddr5\"] = np.where(df[\"ram_type\"] == \"DDR5\", df[\"RAM_cleaned\"], 0)\n",
    "df[\"lpddr4x\"] = np.where(df[\"ram_type\"] == \"LPDDR4X\", df[\"RAM_cleaned\"], 0)\n",
    "\n",
    "print(df[[\"RAM\", \"ddr4\", \"ddr5\", \"lpddr4x\"]].head(10))\n"
   ]
  },
  {
   "cell_type": "code",
   "execution_count": null,
   "metadata": {},
   "outputs": [
    {
     "name": "stdout",
     "output_type": "stream",
     "text": [
      "42\n",
      "920\n"
     ]
    }
   ],
   "source": [
    "print(df[\"RAM_cleaned\"].isna().sum())\n",
    "total = len(df[\"RAM_cleaned\"])\n",
    "print(total)"
   ]
  },
  {
   "cell_type": "code",
   "execution_count": null,
   "metadata": {},
   "outputs": [
    {
     "name": "stdout",
     "output_type": "stream",
     "text": [
      "111    15.6 Inch Full HD OLED 16:9 aspect ratio, 0.2m...\n",
      "146    15.6 Inch Full HD OLED 16:9 aspect ratio, 0.2m...\n",
      "149    15.6 inch Full HD AG Display (250 nits Brightn...\n",
      "164                      AMD Ryzen 5 Hexa Core Processor\n",
      "171    14 inch 2K QHD, IPS LCD Display ( 400nits peak...\n",
      "175                   Intel Core i7 Processor (11th Gen)\n",
      "176        Microsoft Office 2019 Home & Student Included\n",
      "261                      AMD Ryzen 5 Hexa Core Processor\n",
      "281    15.6 inch Full HD LED Backlit Anti-glare IPS D...\n",
      "293    15.6 inches Full HD, 2-sided narrow bezel, 120...\n",
      "301                      AMD Ryzen 5 Hexa Core Processor\n",
      "305    14 inch 2K QHD, IPS LCD Display ( 400nits peak...\n",
      "328                   Intel Core i7 Processor (10th Gen)\n",
      "334    15.6 inch Full HD AG Display (250 nits Brightn...\n",
      "361    15.6 inch Full HD LED Backlit Anti-glare IPS D...\n",
      "375    15.6 inch Full HD LED Backlit Anti-glare IPS D...\n",
      "398    15.6 inches Full HD, 2-sided narrow bezel, 120...\n",
      "411    15.6 inch Full HD AG Display (250 nits Brightn...\n",
      "458    15.6 inch Full HD LED Backlit Anti-glare IPS D...\n",
      "470                    Intel Core i7 Processor (7th Gen)\n",
      "471             Dual Fan Cooling with Metal AeroBlade 3D\n",
      "478                    Intel Core i7 Processor (8th Gen)\n",
      "485                    Intel Core i5 Processor (7th Gen)\n",
      "487                   Intel Core i7 Processor (12th Gen)\n",
      "517    15.6 inches Full HD, 2-sided narrow bezel, 120...\n",
      "537    15.6 inches Full HD, 2-sided narrow bezel, 120...\n",
      "551                   Intel Core i7 Processor (11th Gen)\n",
      "579                   Intel Core i7 Processor (11th Gen)\n",
      "580    15.6 inches Full HD, 2-sided narrow bezel, 120...\n",
      "632    Acer Cooler Master Technology Delivers Heighte...\n",
      "642                   Intel Core i7 Processor (11th Gen)\n",
      "645                    Intel Core i5 Processor (7th Gen)\n",
      "659                           NVIDIA GeForce GTX 1050 Ti\n",
      "674    15.6 inches Full HD, 2-sided narrow bezel, 120...\n",
      "698    15.6 inch Full HD LED Backlit Anti-glare Displ...\n",
      "726                    Intel Core i7 Processor (7th Gen)\n",
      "728                   Intel Core i5 Processor (11th Gen)\n",
      "775                   Intel Core i7 Processor (11th Gen)\n",
      "783    Pre-installed Genuine Windows 10 Operating Sys...\n",
      "820                    Intel Core i5 Processor (5th Gen)\n",
      "844    Pre-installed Genuine Windows 10 Operating Sys...\n",
      "900    Pre-installed Genuine Windows 10 Operating Sys...\n",
      "Name: RAM, dtype: object\n"
     ]
    }
   ],
   "source": [
    "df = pd.read_csv(\"laptops.csv\")\n",
    "\n",
    "ram_original = df[\"RAM_cleaned\"]\n",
    "ram_extracted = ram_original.str.extract(r'(\\d+)\\s*GB')[0]\n",
    "nan_rows = ram_original[ram_extracted.isna()]\n",
    "print(nan_rows)\n"
   ]
  },
  {
   "cell_type": "code",
   "execution_count": null,
   "metadata": {},
   "outputs": [],
   "source": [
    "df[\"RAM_cleaned\"] = df[\"RAM_cleaned\"].fillna(0)"
   ]
  },
  {
   "cell_type": "code",
   "execution_count": 129,
   "metadata": {},
   "outputs": [
    {
     "name": "stdout",
     "output_type": "stream",
     "text": [
      "0     Graphics & Keyboard: Integrated & Standard Key...\n",
      "1                    64 bit Windows 11 Operating System\n",
      "2                    64 bit Windows 11 Operating System\n",
      "3                    64 bit Windows 11 Operating System\n",
      "4                    64 bit Windows 11 Operating System\n",
      "5                    64 bit Windows 11 Operating System\n",
      "6                    64 bit Windows 11 Operating System\n",
      "7                    64 bit Windows 11 Operating System\n",
      "8                    64 bit Windows 11 Operating System\n",
      "9                    64 bit Windows 11 Operating System\n",
      "10                   64 bit Windows 11 Operating System\n",
      "11                   64 bit Windows 11 Operating System\n",
      "12                          Windows 11 Operating System\n",
      "13                   64 bit Windows 11 Operating System\n",
      "14                   64 bit Windows 11 Operating System\n",
      "15                   64 bit Windows 11 Operating System\n",
      "16                   64 bit Windows 10 Operating System\n",
      "17                   64 bit Windows 11 Operating System\n",
      "18                   64 bit Windows 11 Operating System\n",
      "19                   64 bit Windows 11 Operating System\n",
      "Name: OS, dtype: object\n",
      "object\n",
      "0\n"
     ]
    }
   ],
   "source": [
    "df = pd.read_csv(\"laptops.csv\")\n",
    "print(df[\"OS\"].head(20))\n",
    "print(df[\"OS\"].dtype)\n",
    "print(df[\"OS\"].isna().sum())"
   ]
  },
  {
   "cell_type": "code",
   "execution_count": null,
   "metadata": {},
   "outputs": [
    {
     "name": "stdout",
     "output_type": "stream",
     "text": [
      "0\n",
      "285\n",
      "134\n"
     ]
    }
   ],
   "source": [
    "df[\"os_bit\"] = df[\"OS\"].str.extract(r\"(\\d+)\\s*bit\")[0]\n",
    "df[\"os_windows\"] = df[\"OS\"].str.extract(r\"Windows\\s*(\\d+)\")[0]\n",
    "#print(df[\"OS\"][:20] , df[\"os_bit\"][:20] ,df[\"os_windows\"][:20] )\n",
    "print(df[\"OS\"].isna().sum())\n",
    "print(df[\"os_bit\"].isna().sum())\n",
    "print(df[\"os_windows\"].isna().sum())\n"
   ]
  },
  {
   "cell_type": "code",
   "execution_count": 131,
   "metadata": {},
   "outputs": [
    {
     "name": "stdout",
     "output_type": "stream",
     "text": [
      "                                                    OS os_bit\n",
      "0    Graphics & Keyboard: Integrated & Standard Key...    NaN\n",
      "12                         Windows 11 Operating System    NaN\n",
      "23                                DOS Operating System    NaN\n",
      "26                             Mac OS Operating System    NaN\n",
      "27   Graphics & Keyboard: Integrated & Standard Key...    NaN\n",
      "..                                                 ...    ...\n",
      "909                               DOS Operating System    NaN\n",
      "910                        Windows 11 Operating System    NaN\n",
      "913                        Windows 11 Operating System    NaN\n",
      "915                        Windows 11 Operating System    NaN\n",
      "916  Graphics: NVIDIA GEFORCE RTX 3050 (4GB GDDR6) ...    NaN\n",
      "\n",
      "[285 rows x 2 columns]\n",
      "                                                    OS os_windows\n",
      "0    Graphics & Keyboard: Integrated & Standard Key...        NaN\n",
      "23                                DOS Operating System        NaN\n",
      "26                             Mac OS Operating System        NaN\n",
      "27   Graphics & Keyboard: Integrated & Standard Key...        NaN\n",
      "30   Graphics & Keyboard: Integrated & Backlit Keyb...        NaN\n",
      "..                                                 ...        ...\n",
      "901                     64 bit Chrome Operating System        NaN\n",
      "904                               DOS Operating System        NaN\n",
      "906                 Display: 15.6\" HD AG Narrow Border        NaN\n",
      "909                               DOS Operating System        NaN\n",
      "916  Graphics: NVIDIA GEFORCE RTX 3050 (4GB GDDR6) ...        NaN\n",
      "\n",
      "[134 rows x 2 columns]\n"
     ]
    }
   ],
   "source": [
    "nan_os_bit = df[df[\"os_bit\"].isna()]\n",
    "print(nan_os_bit[[\"OS\", \"os_bit\"]])\n",
    "nan_os_windows = df[df[\"os_windows\"].isna()]\n",
    "print(nan_os_windows[[\"OS\", \"os_windows\"]])"
   ]
  },
  {
   "cell_type": "code",
   "execution_count": 133,
   "metadata": {},
   "outputs": [
    {
     "name": "stdout",
     "output_type": "stream",
     "text": [
      "0     other\n",
      "1      11.0\n",
      "2      11.0\n",
      "3      11.0\n",
      "4      11.0\n",
      "5      11.0\n",
      "6      11.0\n",
      "7      11.0\n",
      "8      11.0\n",
      "9      11.0\n",
      "10     11.0\n",
      "11     11.0\n",
      "12     11.0\n",
      "13     11.0\n",
      "14     11.0\n",
      "15     11.0\n",
      "16     10.0\n",
      "17     11.0\n",
      "18     11.0\n",
      "19     11.0\n",
      "Name: os_windows, dtype: object 0      0\n",
      "1     64\n",
      "2     64\n",
      "3     64\n",
      "4     64\n",
      "5     64\n",
      "6     64\n",
      "7     64\n",
      "8     64\n",
      "9     64\n",
      "10    64\n",
      "11    64\n",
      "12     0\n",
      "13    64\n",
      "14    64\n",
      "15    64\n",
      "16    64\n",
      "17    64\n",
      "18    64\n",
      "19    64\n",
      "Name: os_bit, dtype: int64\n"
     ]
    }
   ],
   "source": [
    "df[\"os_bit\"] = pd.to_numeric(df[\"os_bit\"] , errors=\"coerce\")\n",
    "df[\"os_windows\"] = pd.to_numeric(df[\"os_windows\"] , errors=\"coerce\")\n",
    "\n",
    "df[\"os_bit\"] = df[\"os_bit\"].fillna(0)\n",
    "df[\"os_windows\"] = df[\"os_windows\"].fillna(\"other\")\n",
    "print(df[\"os_windows\"][:20] , df[\"os_bit\"][:20])"
   ]
  },
  {
   "cell_type": "code",
   "execution_count": 134,
   "metadata": {},
   "outputs": [
    {
     "name": "stdout",
     "output_type": "stream",
     "text": [
      "Index(['Unnamed: 0', 'title', 'price', 'discount', 'Processor', 'RAM', 'OS',\n",
      "       'SSD', 'Display', 'In_build_sw', 'warranty', 'os_bit', 'os_windows'],\n",
      "      dtype='object')\n"
     ]
    }
   ],
   "source": [
    "print(df.columns)"
   ]
  },
  {
   "cell_type": "code",
   "execution_count": 135,
   "metadata": {},
   "outputs": [
    {
     "name": "stdout",
     "output_type": "stream",
     "text": [
      "0    Display: 15.6\" FHD WVA AG Narrow Border\n",
      "1                                 256 GB SSD\n",
      "2                                 512 GB SSD\n",
      "3                                 512 GB SSD\n",
      "4                                 512 GB SSD\n",
      "5                                 512 GB SSD\n",
      "6                                 512 GB SSD\n",
      "7                        1 TB HDD|256 GB SSD\n",
      "8                                 512 GB SSD\n",
      "9                                 512 GB SSD\n",
      "Name: SSD, dtype: object\n",
      "object\n",
      "0\n"
     ]
    }
   ],
   "source": [
    "print(df[\"SSD\"].head(10))\n",
    "print(df[\"SSD\"].dtype)\n",
    "print(df[\"SSD\"].isna().sum())"
   ]
  },
  {
   "cell_type": "code",
   "execution_count": 144,
   "metadata": {},
   "outputs": [
    {
     "name": "stdout",
     "output_type": "stream",
     "text": [
      "0     False\n",
      "1     False\n",
      "2     False\n",
      "3     False\n",
      "4     False\n",
      "5     False\n",
      "6     False\n",
      "7      True\n",
      "8     False\n",
      "9     False\n",
      "10    False\n",
      "11    False\n",
      "12    False\n",
      "13    False\n",
      "14    False\n",
      "15    False\n",
      "16    False\n",
      "17    False\n",
      "18    False\n",
      "19    False\n",
      "Name: SSD, dtype: bool\n"
     ]
    }
   ],
   "source": [
    "df = pd.read_csv(\"laptops.csv\")\n",
    "hdd_rows = df[\"SSD\"].str.contains(\"HDD\")[:20]\n",
    "print(hdd_rows)\n",
    "    "
   ]
  },
  {
   "cell_type": "code",
   "execution_count": null,
   "metadata": {},
   "outputs": [
    {
     "name": "stdout",
     "output_type": "stream",
     "text": [
      "0    Display: 15.6\" FHD WVA AG Narrow Border\n",
      "1                                 256 GB SSD\n",
      "2                                 512 GB SSD\n",
      "3                                 512 GB SSD\n",
      "4                                 512 GB SSD\n",
      "5                                 512 GB SSD\n",
      "6                                 512 GB SSD\n",
      "7                        1 TB HDD|256 GB SSD\n",
      "8                                 512 GB SSD\n",
      "9                                 512 GB SSD\n",
      "Name: SSD, dtype: object\n",
      "0      0\n",
      "1    256\n",
      "2    512\n",
      "3    512\n",
      "4    512\n",
      "5    512\n",
      "6    512\n",
      "7    256\n",
      "8    512\n",
      "9    512\n",
      "Name: ssd, dtype: int64\n",
      "0       0\n",
      "1       0\n",
      "2       0\n",
      "3       0\n",
      "4       0\n",
      "5       0\n",
      "6       0\n",
      "7    1024\n",
      "8       0\n",
      "9       0\n",
      "Name: hdd, dtype: int64\n",
      "0\n",
      "0\n"
     ]
    }
   ],
   "source": [
    "import pandas as pd\n",
    "df = pd.read_csv(\"laptops.csv\")\n",
    "\n",
    "#this is just what i did to understand the structure of the code and \n",
    "#i should do it again using numpy (as long as we can not use \"for\" in ML)\n",
    "'''df[\"ssd\"] = 0\n",
    "df[\"hdd\"] = 0\n",
    "def ssd_hdd(val):\n",
    "    ssd = 0\n",
    "    hdd = 0\n",
    "    val = str(val)\n",
    "    parts = val.split(\"|\") if \"|\" in val else [val]\n",
    "    for part in parts:\n",
    "        part = part.strip()\n",
    "        if \"SSD\" in part:\n",
    "            if \"TB\" in part:\n",
    "                num = part.split(\"TB\")[0].strip().split()[-1]\n",
    "                ssd += int(float(num) * 1024)\n",
    "            elif \"GB\" in part:\n",
    "                num = part.split(\"GB\")[0].strip().split()[-1]\n",
    "                ssd += int(float(num))\n",
    "        elif \"HDD\" in part:\n",
    "            if \"TB\" in part:\n",
    "                num = part.split(\"TB\")[0].strip().split()[-1]\n",
    "                hdd += int(float(num) * 1024)\n",
    "            elif \"GB\" in part:\n",
    "                num = part.split(\"GB\")[0].strip().split()[-1]\n",
    "                hdd += int(float(num))\n",
    "    return pd.Series([ssd, hdd])\n",
    "df[[\"ssd\", \"hdd\"]] = df[\"SSD\"].apply(ssd_hdd)'''\n",
    "\n",
    "'''print(df[\"SSD\"][:10])\n",
    "print(df[\"ssd\"][:10])\n",
    "print(df[\"hdd\"][:10])\n",
    "print(df[\"ssd\"].isna().sum())\n",
    "print(df[\"hdd\"].isna().sum())'''"
   ]
  },
  {
   "cell_type": "code",
   "execution_count": null,
   "metadata": {},
   "outputs": [
    {
     "name": "stdout",
     "output_type": "stream",
     "text": [
      "                                       SSD  ssd(GB)  hdd(GB)\n",
      "0  Display: 15.6\" FHD WVA AG Narrow Border      0.0      0.0\n",
      "1                               256 GB SSD    256.0      0.0\n",
      "2                               512 GB SSD    512.0      0.0\n",
      "3                               512 GB SSD    512.0      0.0\n",
      "4                               512 GB SSD    512.0      0.0\n",
      "5                               512 GB SSD    512.0      0.0\n",
      "6                               512 GB SSD    512.0      0.0\n",
      "7                      1 TB HDD|256 GB SSD    256.0   1024.0\n",
      "8                               512 GB SSD    512.0      0.0\n",
      "9                               512 GB SSD    512.0      0.0\n"
     ]
    }
   ],
   "source": [
    "import numpy as np\n",
    "\n",
    "df = pd.read_csv(\"laptops.csv\")\n",
    "\n",
    "df[\"SSD\"] = df[\"SSD\"].fillna(\"\").astype(str).str.strip()\n",
    "\n",
    "df_exp = df.assign(part=df[\"SSD\"].str.split(\"|\")).explode(\"part\")\n",
    "df_exp[\"part\"] = df_exp[\"part\"].str.strip()\n",
    "\n",
    "df_exp[\"ssd(GB)\"] = 0\n",
    "df_exp[\"hdd(GB)\"] = 0\n",
    "\n",
    "df_exp[[\"size\", \"unit\"]] = df_exp[\"part\"].str.extract(r'([\\d.]+)\\s*(TB|GB)', expand=True)\n",
    "df_exp[\"size\"] = df_exp[\"size\"].astype(float)\n",
    "df_exp[\"size_gb\"] = np.where(df_exp[\"unit\"].str.lower() == \"tb\", df_exp[\"size\"] * 1024, df_exp[\"size\"])\n",
    "\n",
    "df_exp[\"ssd(GB)\"] = np.where(df_exp[\"part\"].str.contains(\"SSD\", case=False), df_exp[\"size_gb\"], 0)\n",
    "df_exp[\"hdd(GB)\"] = np.where(df_exp[\"part\"].str.contains(\"HDD\", case=False), df_exp[\"size_gb\"], 0)\n",
    "\n",
    "df[[\"ssd(GB)\", \"hdd(GB)\"]] = df_exp.groupby(df_exp.index)[[\"ssd(GB)\", \"hdd(GB)\"]].sum().fillna(0)\n",
    "\n",
    "print(df[[\"SSD\", \"ssd(GB)\", \"hdd(GB)\"]].head(10))"
   ]
  },
  {
   "cell_type": "code",
   "execution_count": 289,
   "metadata": {},
   "outputs": [
    {
     "name": "stdout",
     "output_type": "stream",
     "text": [
      "0\n",
      "0\n"
     ]
    }
   ],
   "source": [
    "print(df[\"ssd(GB)\"].isna().sum())\n",
    "print(df[\"hdd(GB)\"].isna().sum())"
   ]
  },
  {
   "cell_type": "code",
   "execution_count": 158,
   "metadata": {},
   "outputs": [
    {
     "name": "stdout",
     "output_type": "stream",
     "text": [
      "Index(['Unnamed: 0', 'title', 'price', 'discount', 'Processor', 'RAM', 'OS',\n",
      "       'SSD', 'Display', 'In_build_sw', 'warranty', 'ssd', 'hdd'],\n",
      "      dtype='object')\n"
     ]
    }
   ],
   "source": [
    "print(df.columns)"
   ]
  },
  {
   "cell_type": "code",
   "execution_count": 159,
   "metadata": {},
   "outputs": [
    {
     "name": "stdout",
     "output_type": "stream",
     "text": [
      "0     Intel Core i3 Processor (11th Gen)\n",
      "1             35.56 cm (14 inch) Display\n",
      "2           39.62 cm (15.6 Inch) Display\n",
      "3           39.62 cm (15.6 Inch) Display\n",
      "4           39.62 cm (15.6 inch) Display\n",
      "5           43.94 cm (17.3 Inch) Display\n",
      "6           43.94 cm (17.3 Inch) Display\n",
      "7           39.62 cm (15.6 inch) Display\n",
      "8           39.62 cm (15.6 Inch) Display\n",
      "9           39.62 cm (15.6 inch) Display\n",
      "10          39.62 cm (15.6 inch) Display\n",
      "11            39.62 cm (15.6 mm) Display\n",
      "12          39.62 cm (15.6 inch) Display\n",
      "13          39.62 cm (15.6 Inch) Display\n",
      "14          39.62 cm (15.6 Inch) Display\n",
      "15          39.62 cm (15.6 Inch) Display\n",
      "16          39.62 cm (15.6 inch) Display\n",
      "17            35.56 cm (14 inch) Display\n",
      "18            35.56 cm (14 inch) Display\n",
      "19            35.56 cm (14 inch) Display\n",
      "Name: Display, dtype: object\n",
      "object\n",
      "0\n"
     ]
    }
   ],
   "source": [
    "df = pd.read_csv(\"laptops.csv\")\n",
    "print(df[\"Display\"][:20])\n",
    "print(df[\"Display\"].dtype)\n",
    "print(df[\"Display\"].isna().sum())"
   ]
  },
  {
   "cell_type": "code",
   "execution_count": 240,
   "metadata": {},
   "outputs": [
    {
     "name": "stdout",
     "output_type": "stream",
     "text": [
      "0      NaN\n",
      "1     14.0\n",
      "2     15.6\n",
      "3     15.6\n",
      "4     15.6\n",
      "5     17.3\n",
      "6     17.3\n",
      "7     15.6\n",
      "8     15.6\n",
      "9     15.6\n",
      "10    15.6\n",
      "11     NaN\n",
      "12    15.6\n",
      "13    15.6\n",
      "14    15.6\n",
      "15    15.6\n",
      "16    15.6\n",
      "17    14.0\n",
      "18    14.0\n",
      "19    14.0\n",
      "Name: Display_cleaned, dtype: float64\n",
      "86\n",
      "15.0\n"
     ]
    }
   ],
   "source": [
    "df = pd.read_csv(\"laptops.csv\")\n",
    "\n",
    "df[\"Display\"] = df[\"Display\"].str.replace(\"Inch\",\"inch\")\n",
    "df[\"Display\"] = df[\"Display\"].str.extract(r\"\\(?(\\d+\\.?\\d*)\\s*inch\")[0]\n",
    "df[\"Display_cleaned\"] = pd.to_numeric(df[\"Display\"], errors=\"coerce\")\n",
    "print(df[\"Display_cleaned\"][:20])\n",
    "\n",
    "print(df[\"Display_cleaned\"].isna().sum())\n",
    "\n",
    "display_mean = round(df[\"Display_cleaned\"].mean(skipna=True),1)\n",
    "print(display_mean)\n",
    "#print(df[\"Display\"].describe())\n",
    "\n"
   ]
  },
  {
   "cell_type": "code",
   "execution_count": 241,
   "metadata": {},
   "outputs": [
    {
     "name": "stdout",
     "output_type": "stream",
     "text": [
      "0    15.0\n",
      "1    14.0\n",
      "2    15.6\n",
      "3    15.6\n",
      "4    15.6\n",
      "5    17.3\n",
      "6    17.3\n",
      "7    15.6\n",
      "8    15.6\n",
      "9    15.6\n",
      "Name: Display_cleaned, dtype: float64\n"
     ]
    }
   ],
   "source": [
    "df[\"Display_cleaned\"] = df[\"Display_cleaned\"].fillna(display_mean)\n",
    "print(df[\"Display_cleaned\"][:10])"
   ]
  },
  {
   "cell_type": "code",
   "execution_count": 199,
   "metadata": {},
   "outputs": [
    {
     "name": "stdout",
     "output_type": "stream",
     "text": [
      "0                                        8 GB DDR4 RAM\n",
      "1                               1 Year Onsite Warranty\n",
      "2    1 Year Onsite Warranty + 1 Year Accidental Dam...\n",
      "3                               1 Year Onsite Warranty\n",
      "4                               1 Year Onsite Warranty\n",
      "5                               1 Year onsite warranty\n",
      "6                               1 Year Onsite Warranty\n",
      "7                               1 Year Onsite Warranty\n",
      "8                               1 Year Onsite Warranty\n",
      "9                               1 Year Onsite Warranty\n",
      "Name: warranty, dtype: object\n",
      "object\n",
      "14\n",
      "920\n"
     ]
    }
   ],
   "source": [
    "print(df[\"warranty\"].head(10))\n",
    "print(df[\"warranty\"].dtype)\n",
    "print(df[\"warranty\"].isna().sum())\n",
    "total = len(df[\"warranty\"])\n",
    "print(total)"
   ]
  },
  {
   "cell_type": "code",
   "execution_count": 3,
   "metadata": {},
   "outputs": [
    {
     "name": "stdout",
     "output_type": "stream",
     "text": [
      "                                            warranty  warranty_years  \\\n",
      "0                                      8 GB DDR4 RAM             1.0   \n",
      "1                             1 Year Onsite Warranty             1.0   \n",
      "2  1 Year Onsite Warranty + 1 Year Accidental Dam...             1.0   \n",
      "3                             1 Year Onsite Warranty             1.0   \n",
      "4                             1 Year Onsite Warranty             1.0   \n",
      "5                             1 Year onsite warranty             1.0   \n",
      "6                             1 Year Onsite Warranty             1.0   \n",
      "7                             1 Year Onsite Warranty             1.0   \n",
      "8                             1 Year Onsite Warranty             1.0   \n",
      "9                             1 Year Onsite Warranty             1.0   \n",
      "\n",
      "   warranty_accidental  \n",
      "0                    0  \n",
      "1                    0  \n",
      "2                    1  \n",
      "3                    0  \n",
      "4                    0  \n",
      "5                    0  \n",
      "6                    0  \n",
      "7                    0  \n",
      "8                    0  \n",
      "9                    0  \n",
      "0\n"
     ]
    },
    {
     "name": "stderr",
     "output_type": "stream",
     "text": [
      "C:\\Users\\Administrator\\AppData\\Local\\Temp\\ipykernel_26280\\2415054522.py:13: FutureWarning: A value is trying to be set on a copy of a DataFrame or Series through chained assignment using an inplace method.\n",
      "The behavior will change in pandas 3.0. This inplace method will never work because the intermediate object on which we are setting values always behaves as a copy.\n",
      "\n",
      "For example, when doing 'df[col].method(value, inplace=True)', try using 'df.method({col: value}, inplace=True)' or df[col] = df[col].method(value) instead, to perform the operation inplace on the original object.\n",
      "\n",
      "\n",
      "  df[\"warranty_years\"].fillna(mode_year, inplace=True)\n"
     ]
    }
   ],
   "source": [
    "import pandas as pd\n",
    "df = pd.read_csv(\"laptops.csv\")\n",
    "\n",
    "df[\"warranty_clean\"] = df[\"warranty\"].str.lower()  \n",
    "df[\"warranty_clean\"] = df[\"warranty_clean\"].str.strip() \n",
    "\n",
    "\n",
    "df[\"warranty_years\"] = df[\"warranty_clean\"].str.extract(r\"(\\d+)\\s*year\")[0]\n",
    "df[\"warranty_years\"] = pd.to_numeric(df[\"warranty_years\"], errors=\"coerce\")\n",
    "\n",
    "\n",
    "mode_year = df[\"warranty_years\"].mode()[0]  \n",
    "df[\"warranty_years\"].fillna(mode_year, inplace=True)\n",
    "\n",
    "\n",
    "df[\"warranty_accidental\"] = df[\"warranty_clean\"].apply(lambda x: 1 if \"accidental\" in str(x) else 0)\n",
    "\n",
    "\n",
    "print(df[[\"warranty\", \"warranty_years\", \"warranty_accidental\"]].head(10))\n",
    "print( df[\"warranty_years\"].isna().sum())\n"
   ]
  },
  {
   "cell_type": "code",
   "execution_count": 201,
   "metadata": {},
   "outputs": [
    {
     "name": "stdout",
     "output_type": "stream",
     "text": [
      "Index(['Unnamed: 0', 'title', 'price', 'discount', 'Processor', 'RAM', 'OS',\n",
      "       'SSD', 'Display', 'In_build_sw', 'warranty', 'warranty_clean',\n",
      "       'warranty_years', 'warranty_accidental'],\n",
      "      dtype='object')\n"
     ]
    }
   ],
   "source": [
    "print(df.columns)"
   ]
  },
  {
   "cell_type": "code",
   "execution_count": 202,
   "metadata": {},
   "outputs": [
    {
     "name": "stdout",
     "output_type": "stream",
     "text": [
      "0    DELL Vostro Core i3 11th Gen - (8 GB/1 TB HDD/...\n",
      "1    HP 14s Intel Core i3 11th Gen - (8 GB/256 GB S...\n",
      "2    Lenovo V15 G2 Core i3 11th Gen - (8 GB/512 GB ...\n",
      "3    HP 15s Intel Core i3 12th Gen - (8 GB/512 GB S...\n",
      "4    ASUS VivoBook 15 (2022) Core i3 10th Gen - (8 ...\n",
      "5    ASUS TUF Gaming A17 with 90Whr Battery Ryzen 7...\n",
      "6    ASUS TUF Gaming A17 with 90Whr Battery Ryzen 5...\n",
      "7    ASUS VivoBook K15 OLED (2022) Ryzen 5 Hexa Cor...\n",
      "8    HP Ryzen 5 Hexa Core 5500U - (16 GB/512 GB SSD...\n",
      "9    HP 15s Intel Core i5 12th Gen - (8 GB/512 GB S...\n",
      "Name: title, dtype: object\n",
      "0\n"
     ]
    }
   ],
   "source": [
    "print(df[\"title\"][:10])\n",
    "print(df[\"title\"].isna().sum())"
   ]
  },
  {
   "cell_type": "code",
   "execution_count": null,
   "metadata": {},
   "outputs": [
    {
     "name": "stdout",
     "output_type": "stream",
     "text": [
      "                                               title   Brand  \\\n",
      "0  DELL Vostro Core i3 11th Gen - (8 GB/1 TB HDD/...    Dell   \n",
      "1  HP 14s Intel Core i3 11th Gen - (8 GB/256 GB S...      Hp   \n",
      "2  Lenovo V15 G2 Core i3 11th Gen - (8 GB/512 GB ...  Lenovo   \n",
      "3  HP 15s Intel Core i3 12th Gen - (8 GB/512 GB S...      Hp   \n",
      "4  ASUS VivoBook 15 (2022) Core i3 10th Gen - (8 ...    Asus   \n",
      "5  ASUS TUF Gaming A17 with 90Whr Battery Ryzen 7...    Asus   \n",
      "6  ASUS TUF Gaming A17 with 90Whr Battery Ryzen 5...    Asus   \n",
      "7  ASUS VivoBook K15 OLED (2022) Ryzen 5 Hexa Cor...    Asus   \n",
      "8  HP Ryzen 5 Hexa Core 5500U - (16 GB/512 GB SSD...      Hp   \n",
      "9  HP 15s Intel Core i5 12th Gen - (8 GB/512 GB S...      Hp   \n",
      "\n",
      "                                               Model  \n",
      "0                            VOSTRO CORE I3 11TH GEN  \n",
      "1                         14S INTEL CORE I3 11TH GEN  \n",
      "2                            V15 G2 CORE I3 11TH GEN  \n",
      "3                         15S INTEL CORE I3 12TH GEN  \n",
      "4                                        VIVOBOOK 15  \n",
      "5  TUF GAMING A17 WITH 90WHR BATTERY RYZEN 7 OCTA...  \n",
      "6  TUF GAMING A17 WITH 90WHR BATTERY RYZEN 5 HEXA...  \n",
      "7                                  VIVOBOOK K15 OLED  \n",
      "8                            RYZEN 5 HEXA CORE 5500U  \n",
      "9                         15S INTEL CORE I5 12TH GEN  \n"
     ]
    }
   ],
   "source": [
    "df[\"title_clean\"] = df[\"title\"].str.lower().str.strip()\n",
    "df[\"Brand\"] = df[\"title_clean\"].str.split().str[0].str.capitalize()\n",
    "df[\"Model\"] = df[\"title_clean\"].str.extract(r'^[a-zA-Z]+[\\s-]+([^\\(\\-]+)')[0].str.strip().str.upper()\n",
    "print(df[[\"title\", \"Brand\", \"Model\"]].head(10))"
   ]
  },
  {
   "cell_type": "code",
   "execution_count": 281,
   "metadata": {},
   "outputs": [
    {
     "name": "stdout",
     "output_type": "stream",
     "text": [
      "0\n",
      "2\n"
     ]
    }
   ],
   "source": [
    "print(df[\"Brand\"].isna().sum())\n",
    "print(df[\"Model\"].isna().sum())\n",
    "df[\"Model\"] = df[\"Model\"].fillna(\"unknown\")"
   ]
  },
  {
   "cell_type": "code",
   "execution_count": 2,
   "metadata": {},
   "outputs": [
    {
     "name": "stdout",
     "output_type": "stream",
     "text": [
      "                                           Processor  intel  amd_quad  \\\n",
      "0  Processor: Intel i3-1115G4 (Base- 1.7 GHz & Tu...    3.0         0   \n",
      "1                 Intel Core i3 Processor (11th Gen)    3.0         0   \n",
      "2                 Intel Core i3 Processor (11th Gen)    3.0         0   \n",
      "3                 Intel Core i3 Processor (12th Gen)    3.0         0   \n",
      "4                 Intel Core i3 Processor (10th Gen)    3.0         0   \n",
      "5                    AMD Ryzen 7 Octa Core Processor    0.0         0   \n",
      "6                    AMD Ryzen 5 Hexa Core Processor    0.0         0   \n",
      "7                    AMD Ryzen 5 Hexa Core Processor    0.0         0   \n",
      "8                    AMD Ryzen 5 Hexa Core Processor    0.0         0   \n",
      "9                 Intel Core i5 Processor (12th Gen)    5.0         0   \n",
      "\n",
      "   amd_hexa  amd_octa  \n",
      "0         0         0  \n",
      "1         0         0  \n",
      "2         0         0  \n",
      "3         0         0  \n",
      "4         0         0  \n",
      "5         0         7  \n",
      "6         5         0  \n",
      "7         5         0  \n",
      "8         5         0  \n",
      "9         0         0  \n"
     ]
    }
   ],
   "source": [
    "import numpy as np\n",
    "import pandas as pd\n",
    "df = pd.read_csv(\"laptops.csv\")\n",
    "\n",
    "\n",
    "df[\"Processor\"] = df[\"Processor\"].astype(str)\n",
    "\n",
    "df[\"intel\"] = 0\n",
    "df[\"amd_quad\"] = 0\n",
    "df[\"amd_hexa\"] = 0\n",
    "df[\"amd_octa\"] = 0\n",
    "\n",
    "intel_mask = df[\"Processor\"].str.contains(\"Intel\", case=False)\n",
    "df.loc[intel_mask, \"intel\"] = df.loc[intel_mask, \"Processor\"].str.extract(r'i(\\d)')[0].astype(float)\n",
    "\n",
    "amd_quad_mask = df[\"Processor\"].str.contains(\"AMD\") & df[\"Processor\"].str.contains(\"Quad\")\n",
    "amd_hexa_mask = df[\"Processor\"].str.contains(\"AMD\") & df[\"Processor\"].str.contains(\"Hexa\")\n",
    "amd_octa_mask = df[\"Processor\"].str.contains(\"AMD\") & df[\"Processor\"].str.contains(\"Octa\")\n",
    "\n",
    "df.loc[amd_quad_mask, \"amd_quad\"] = df.loc[amd_quad_mask, \"Processor\"].str.extract(r'(\\d)')[0].astype(float)\n",
    "df.loc[amd_hexa_mask, \"amd_hexa\"] = df.loc[amd_hexa_mask, \"Processor\"].str.extract(r'(\\d)')[0].astype(float)\n",
    "df.loc[amd_octa_mask, \"amd_octa\"] = df.loc[amd_octa_mask, \"Processor\"].str.extract(r'(\\d)')[0].astype(float)\n",
    "\n",
    "print(df[[\"Processor\", \"intel\", \"amd_quad\", \"amd_hexa\", \"amd_octa\"]].head(10))\n"
   ]
  },
  {
   "cell_type": "code",
   "execution_count": 5,
   "metadata": {},
   "outputs": [
    {
     "name": "stdout",
     "output_type": "stream",
     "text": [
      "0\n",
      "0\n"
     ]
    }
   ],
   "source": [
    "print(df[\"intel\"].isna().sum())\n",
    "df[\"intel\"] = df[\"intel\"].fillna(0)\n",
    "print(df[\"intel\"].isna().sum())\n"
   ]
  },
  {
   "cell_type": "code",
   "execution_count": 28,
   "metadata": {},
   "outputs": [
    {
     "name": "stdout",
     "output_type": "stream",
     "text": [
      "                                       SSD  ssd(GB)  hdd(GB)\n",
      "0  Display: 15.6\" FHD WVA AG Narrow Border      0.0      0.0\n",
      "1                               256 GB SSD    256.0      0.0\n",
      "2                               512 GB SSD    512.0      0.0\n",
      "3                               512 GB SSD    512.0      0.0\n",
      "4                               512 GB SSD    512.0      0.0\n",
      "5                               512 GB SSD    512.0      0.0\n",
      "6                               512 GB SSD    512.0      0.0\n",
      "7                      1 TB HDD|256 GB SSD    256.0   1024.0\n",
      "8                               512 GB SSD    512.0      0.0\n",
      "9                               512 GB SSD    512.0      0.0\n",
      "0\n"
     ]
    },
    {
     "name": "stderr",
     "output_type": "stream",
     "text": [
      "C:\\Users\\Administrator\\AppData\\Local\\Temp\\ipykernel_11728\\72781435.py:59: FutureWarning: A value is trying to be set on a copy of a DataFrame or Series through chained assignment using an inplace method.\n",
      "The behavior will change in pandas 3.0. This inplace method will never work because the intermediate object on which we are setting values always behaves as a copy.\n",
      "\n",
      "For example, when doing 'df[col].method(value, inplace=True)', try using 'df.method({col: value}, inplace=True)' or df[col] = df[col].method(value) instead, to perform the operation inplace on the original object.\n",
      "\n",
      "\n",
      "  df[\"warranty_years\"].fillna(mode_year, inplace=True)\n"
     ]
    },
    {
     "name": "stdout",
     "output_type": "stream",
     "text": [
      "    brand                       model  price  discount  ram_DDR4  ram_DDR5  \\\n",
      "0    Dell     VOSTRO CORE I3 11TH GEN  37990      35.0       8.0       0.0   \n",
      "1      Hp  14S INTEL CORE I3 11TH GEN  35490      24.0       8.0       0.0   \n",
      "2  Lenovo     V15 G2 CORE I3 11TH GEN  33999      43.0       8.0       0.0   \n",
      "3      Hp  15S INTEL CORE I3 12TH GEN  45490      19.0       8.0       0.0   \n",
      "4    Asus                 VIVOBOOK 15  33990      26.0       8.0       0.0   \n",
      "\n",
      "   ram_lpddr4x   bit windows  ssd(GB)  hdd(GB)  display  warranty_years  \\\n",
      "0          0.0   0.0   other      0.0      0.0     15.0             1.0   \n",
      "1          0.0  64.0    11.0    256.0      0.0     14.0             1.0   \n",
      "2          0.0  64.0    11.0    512.0      0.0     15.6             1.0   \n",
      "3          0.0  64.0    11.0    512.0      0.0     15.6             1.0   \n",
      "4          0.0  64.0    11.0    512.0      0.0     15.6             1.0   \n",
      "\n",
      "   warranty_accidental  processor_amd_quad  processor_amd_octa  \\\n",
      "0                    0                   0                   0   \n",
      "1                    0                   0                   0   \n",
      "2                    1                   0                   0   \n",
      "3                    0                   0                   0   \n",
      "4                    0                   0                   0   \n",
      "\n",
      "   processor_amd_hexa  processor_intel  \n",
      "0                   0              3.0  \n",
      "1                   0              3.0  \n",
      "2                   0              3.0  \n",
      "3                   0              3.0  \n",
      "4                   0              3.0  \n"
     ]
    }
   ],
   "source": [
    "df = pd.read_csv(\"laptops.csv\")\n",
    "\n",
    "df[\"title_clean\"] = df[\"title\"].str.lower().str.strip()\n",
    "df[\"Brand\"] = df[\"title_clean\"].str.split().str[0].str.capitalize()\n",
    "df[\"Model\"] = df[\"title_clean\"].str.extract(r'^[a-zA-Z]+[\\s-]+([^\\(\\-]+)')[0].str.strip().str.upper()\n",
    "\n",
    "df[\"price_cleaned\"] = df[\"price\"].str.replace(\"₹\",\"\",regex=False).str.replace(\",\",\"\",regex=True)\n",
    "df[\"price_cleaned\"] = pd.to_numeric(df[\"price_cleaned\"], errors=\"coerce\")\n",
    "price_mean = df[\"price_cleaned\"].mean(skipna=True)\n",
    "df[\"price_cleaned\"] = df[\"price_cleaned\"].fillna(price_mean)\n",
    "df[\"price_cleaned\"] = df[\"price_cleaned\"].round(0)\n",
    "df[\"price_cleaned\"] = df[\"price_cleaned\"].fillna(price_mean).astype(int)\n",
    "\n",
    "df[\"discount_new\"] = df[\"discount\"].astype(str)\n",
    "df[\"discount_new\"] = df[\"discount_new\"].str.extract(r'(\\d{2})%')[0]\n",
    "df[\"discount_new\"] = pd.to_numeric(df[\"discount_new\"], errors=\"coerce\")\n",
    "discount_mean = df[\"discount_new\"].mean(skipna=True)\n",
    "df[\"discount_new\"] = round(df[\"discount_new\"].fillna(discount_mean),2)\n",
    "\n",
    "df[\"RAM\"] = df[\"RAM\"].astype(str)\n",
    "df[\"RAM_cleaned\"] = df[\"RAM\"].str.extract(r'(\\d+)\\s*GB')[0].astype(float)\n",
    "df[\"ram_type\"] = df[\"RAM\"].str.extract(r'(LPDDR4X|DDR5|DDR4)', expand=False)\n",
    "\n",
    "df[\"ddr4\"] = np.where(df[\"ram_type\"] == \"DDR4\", df[\"RAM_cleaned\"], 0)\n",
    "df[\"ddr5\"] = np.where(df[\"ram_type\"] == \"DDR5\", df[\"RAM_cleaned\"], 0)\n",
    "df[\"lpddr4x\"] = np.where(df[\"ram_type\"] == \"LPDDR4X\", df[\"RAM_cleaned\"], 0)\n",
    "\n",
    "df[\"os_bit\"] = df[\"OS\"].str.extract(r\"(\\d+)\\s*bit\")[0]\n",
    "df[\"os_windows\"] = df[\"OS\"].str.extract(r\"Windows\\s*(\\d+)\")[0]\n",
    "df[\"os_bit\"] = pd.to_numeric(df[\"os_bit\"] , errors=\"coerce\")\n",
    "df[\"os_windows\"] = pd.to_numeric(df[\"os_windows\"] , errors=\"coerce\")\n",
    "df[\"os_bit\"] = df[\"os_bit\"].fillna(0)\n",
    "df[\"os_windows\"] = df[\"os_windows\"].fillna(\"other\")\n",
    "\n",
    "df[\"SSD\"] = df[\"SSD\"].fillna(\"\").astype(str).str.strip()\n",
    "df_exp = df.assign(part=df[\"SSD\"].str.split(\"|\")).explode(\"part\")\n",
    "df_exp[\"part\"] = df_exp[\"part\"].str.strip()\n",
    "df_exp[\"ssd(GB)\"] = 0\n",
    "df_exp[\"hdd(GB)\"] = 0\n",
    "df_exp[[\"size\", \"unit\"]] = df_exp[\"part\"].str.extract(r'([\\d.]+)\\s*(TB|GB)', expand=True)\n",
    "df_exp[\"size\"] = df_exp[\"size\"].astype(float)\n",
    "df_exp[\"size_gb\"] = np.where(df_exp[\"unit\"].str.lower() == \"tb\", df_exp[\"size\"] * 1024, df_exp[\"size\"])\n",
    "df_exp[\"ssd(GB)\"] = np.where(df_exp[\"part\"].str.contains(\"SSD\", case=False), df_exp[\"size_gb\"], 0)\n",
    "df_exp[\"hdd(GB)\"] = np.where(df_exp[\"part\"].str.contains(\"HDD\", case=False), df_exp[\"size_gb\"], 0)\n",
    "df[[\"ssd(GB)\", \"hdd(GB)\"]] = df_exp.groupby(df_exp.index)[[\"ssd(GB)\", \"hdd(GB)\"]].sum().fillna(0)\n",
    "print(df[[\"SSD\", \"ssd(GB)\", \"hdd(GB)\"]].head(10))\n",
    "\n",
    "df[\"Display\"] = df[\"Display\"].str.replace(\"Inch\",\"inch\")\n",
    "df[\"Display\"] = df[\"Display\"].str.extract(r\"\\(?(\\d+\\.?\\d*)\\s*inch\")[0]\n",
    "df[\"Display_cleaned\"] = pd.to_numeric(df[\"Display\"], errors=\"coerce\")\n",
    "display_mean = round(df[\"Display_cleaned\"].mean(skipna=True),1)\n",
    "df[\"Display_cleaned\"] = df[\"Display_cleaned\"].fillna(display_mean)\n",
    "\n",
    "df[\"warranty_clean\"] = df[\"warranty\"].str.lower()  \n",
    "df[\"warranty_clean\"] = df[\"warranty_clean\"].str.strip() \n",
    "df[\"warranty_years\"] = df[\"warranty_clean\"].str.extract(r\"(\\d+)\\s*year\")[0]\n",
    "df[\"warranty_years\"] = pd.to_numeric(df[\"warranty_years\"], errors=\"coerce\")\n",
    "mode_year = df[\"warranty_years\"].mode()[0]  \n",
    "df[\"warranty_years\"].fillna(mode_year, inplace=True)\n",
    "df[\"warranty_accidental\"] = df[\"warranty_clean\"].apply(lambda x: 1 if \"accidental\" in str(x) else 0)\n",
    "\n",
    "df[\"Processor\"] = df[\"Processor\"].astype(str)\n",
    "df[\"intel\"] = 0\n",
    "df[\"amd_quad\"] = 0\n",
    "df[\"amd_hexa\"] = 0\n",
    "df[\"amd_octa\"] = 0\n",
    "intel_mask = df[\"Processor\"].str.contains(\"Intel\")\n",
    "df.loc[intel_mask, \"intel\"] = df.loc[intel_mask, \"Processor\"].str.extract(r'i(\\d)')[0].astype(float)\n",
    "amd_quad_mask = df[\"Processor\"].str.contains(\"AMD\") & df[\"Processor\"].str.contains(\"Quad\")\n",
    "amd_hexa_mask = df[\"Processor\"].str.contains(\"AMD\") & df[\"Processor\"].str.contains(\"Hexa\")\n",
    "amd_octa_mask = df[\"Processor\"].str.contains(\"AMD\") & df[\"Processor\"].str.contains(\"Octa\")\n",
    "df.loc[amd_quad_mask, \"amd_quad\"] = df.loc[amd_quad_mask, \"Processor\"].str.extract(r'(\\d)')[0].astype(float)\n",
    "df.loc[amd_hexa_mask, \"amd_hexa\"] = df.loc[amd_hexa_mask, \"Processor\"].str.extract(r'(\\d)')[0].astype(float)\n",
    "df.loc[amd_octa_mask, \"amd_octa\"] = df.loc[amd_octa_mask, \"Processor\"].str.extract(r'(\\d)')[0].astype(float)\n",
    "\n",
    "\n",
    "brand = df[\"Brand\"]\n",
    "model = df[\"Model\"]\n",
    "price = df[\"price_cleaned\"]\n",
    "discount = df[\"discount_new\"]\n",
    "ram_DDR4 =  df[\"ddr4\"]\n",
    "ram_DDR5 = df[\"ddr5\"]\n",
    "ram_lpddr4x = df[\"lpddr4x\"]\n",
    "bit = df[\"os_bit\"]\n",
    "windows = df[\"os_windows\"]\n",
    "ssd = df[\"ssd(GB)\"]\n",
    "hdd = df[\"hdd(GB)\"]\n",
    "display = df[\"Display_cleaned\"]\n",
    "warranty_years = df[\"warranty_years\"]\n",
    "warranty_accidental = df[\"warranty_accidental\"]\n",
    "processor_amd_quad = df[\"amd_quad\"]\n",
    "processor_amd_octa = df[\"amd_octa\"]\n",
    "processor_amd_hexa = df[\"amd_hexa\"]\n",
    "processor_intel = df[\"intel\"]\n",
    "\n",
    "df_new = pd.DataFrame({\n",
    "    \"brand\":brand,\n",
    "    \"model\":model,\n",
    "    \"price\":price,\n",
    "    \"discount\":discount,\n",
    "    \"ram_DDR4\":ram_DDR4,\n",
    "    \"ram_DDR5\":ram_DDR5,\n",
    "    \"ram_lpddr4x\":ram_lpddr4x,\n",
    "    \"bit\":bit,\n",
    "    \"windows\":windows,\n",
    "    \"ssd(GB)\":ssd,\n",
    "    \"hdd(GB)\":hdd,\n",
    "    \"display\":display,\n",
    "    \"warranty_years\":warranty_years,\n",
    "    \"warranty_accidental\":warranty_accidental,\n",
    "    \"processor_amd_quad\":processor_amd_quad,\n",
    "    \"processor_amd_octa\":processor_amd_octa,\n",
    "    \"processor_amd_hexa\":processor_amd_hexa,\n",
    "    \"processor_intel\":processor_intel\n",
    "\n",
    "})\n",
    "\n",
    "df_new[\"processor_intel\"] = df_new[\"processor_intel\"].fillna(0)\n",
    "print(df_new[\"processor_intel\"].isna().sum())\n",
    "\n",
    "\n",
    "df_new.to_csv(\"cleaned_laptops3.csv\", index=False)\n",
    "df_new.to_excel(\"cleaned_laptops3.xlsx\", index=False)\n",
    "\n",
    "print(df_new.head(5))\n",
    "    \n"
   ]
  },
  {
   "cell_type": "code",
   "execution_count": 19,
   "metadata": {},
   "outputs": [
    {
     "name": "stdout",
     "output_type": "stream",
     "text": [
      "41\n"
     ]
    }
   ],
   "source": [
    "print(df_new[\"processor_intel\"].isna().sum())\n",
    "df_new[\"processor_intel\"] = df_new[\"processor_intel\"].fillna(0)"
   ]
  },
  {
   "cell_type": "code",
   "execution_count": 20,
   "metadata": {},
   "outputs": [
    {
     "name": "stdout",
     "output_type": "stream",
     "text": [
      "0\n"
     ]
    }
   ],
   "source": [
    "print(df_new[\"processor_intel\"].isna().sum())\n"
   ]
  },
  {
   "cell_type": "code",
   "execution_count": 21,
   "metadata": {},
   "outputs": [
    {
     "data": {
      "image/png": "[encoded data removed]",
      "text/plain": [
       "<Figure size 640x480 with 1 Axes>"
      ]
     },
     "metadata": {},
     "output_type": "display_data"
    }
   ],
   "source": [
    "import matplotlib.pyplot as plt\n",
    "import numpy as np\n",
    "\n",
    "#distribution of laptop prices\n",
    "\n",
    "plt.hist(df_new['price'].values / 1000, bins=30, color='skyblue')\n",
    "plt.title(\"Distribution of Laptop Prices (in Thousands ₹)\")\n",
    "plt.xlabel(\"Price (₹000)\")\n",
    "plt.ylabel(\"Count\")\n",
    "plt.show()\n",
    "#with this chart you can find out the number of expensive, cheap and average price of laptops. \n",
    "#and additionally, i guess that a company supporter can easily give pieces of advise (about prices) \n",
    "#to their costumers based on this chart."
   ]
  },
  {
   "cell_type": "code",
   "execution_count": 22,
   "metadata": {},
   "outputs": [
    {
     "data": {
      "image/png": "[encoded data removed]",
      "text/plain": [
       "<Figure size 640x480 with 1 Axes>"
      ]
     },
     "metadata": {},
     "output_type": "display_data"
    }
   ],
   "source": [
    "df_new[\"ram_type\"] = df_new[[\"ram_DDR4\", \"ram_DDR5\", \"ram_lpddr4x\"]].idxmax(axis=1)\n",
    "df_new[\"ram_type\"] = df_new[\"ram_type\"].replace({\n",
    "    \"ram_DDR4\": \"DDR4\",\n",
    "    \"ram_DDR5\": \"DDR5\",\n",
    "    \"ram_lpddr4x\": \"LPDDR4x\"\n",
    "})\n",
    "\n",
    "avg_prices = df_new.groupby(\"ram_type\")[\"price\"].mean().sort_values()\n",
    "\n",
    "plt.bar(avg_prices.index, avg_prices.values, color='skyblue')\n",
    "plt.title(\"Average Laptop Price by RAM Type\")\n",
    "plt.xlabel(\"RAM Type\")\n",
    "plt.ylabel(\"Average Price (₹)\")\n",
    "plt.show()\n",
    "\n",
    "# i wanted to show how effective the RAM is in the field of price.\n",
    "#and as it highlights, the DDR5 rams are the most expensive ones\n",
    "#therefore, the type and size of the ram has got impact on the price"
   ]
  },
  {
   "cell_type": "code",
   "execution_count": 23,
   "metadata": {},
   "outputs": [
    {
     "data": {
      "image/png": "[encoded data removed]",
      "text/plain": [
       "<Figure size 640x480 with 1 Axes>"
      ]
     },
     "metadata": {},
     "output_type": "display_data"
    }
   ],
   "source": [
    "plt.scatter(df_new['display'], df_new['price'], color='green')\n",
    "plt.title(\"Price vs Display Size\")\n",
    "plt.xlabel(\"Display (inch)\")\n",
    "plt.ylabel(\"Price (₹)\")\n",
    "plt.show()\n",
    "\n",
    "#Laptop prices don't have a very direct and clear relationship with screen size,\n",
    "#but laptops with larger screens (like 16 and 17 inches) are usually more expensive."
   ]
  },
  {
   "cell_type": "code",
   "execution_count": 24,
   "metadata": {},
   "outputs": [
    {
     "data": {
      "image/png": "[encoded data removed]",
      "text/plain": [
       "<Figure size 640x480 with 1 Axes>"
      ]
     },
     "metadata": {},
     "output_type": "display_data"
    }
   ],
   "source": [
    "plt.scatter(df_new['price'], df_new['discount'], color='red')\n",
    "plt.title(\"Discount vs Price\")\n",
    "plt.xlabel(\"Price (₹)\")\n",
    "plt.ylabel(\"Discount (%)\")\n",
    "plt.show()\n",
    "#The relationship between discount and price is negative\n",
    "# all in all, the lower the price, the lower the discount\n",
    "#sellers give more discounts on cheaper products to sell more\n",
    "#But more luxurious products maintain their profit margins"
   ]
  },
  {
   "cell_type": "code",
   "execution_count": 25,
   "metadata": {},
   "outputs": [
    {
     "data": {
      "image/png": "[encoded data removed]",
      "text/plain": [
       "<Figure size 640x480 with 1 Axes>"
      ]
     },
     "metadata": {},
     "output_type": "display_data"
    }
   ],
   "source": [
    "import matplotlib.pyplot as plt\n",
    "\n",
    "max_price_by_brand = df_new.groupby('brand')['price'].max().sort_values(ascending=False)\n",
    "\n",
    "plt.bar(range(len(max_price_by_brand)), max_price_by_brand.values)\n",
    "plt.title(\"the most expansive brands\")\n",
    "plt.xlabel(\"brand\")\n",
    "plt.ylabel('price')\n",
    "plt.xticks(range(len(max_price_by_brand)), max_price_by_brand.index, rotation=45)\n",
    "plt.show()\n",
    "\n",
    "# you can see the most expensive and the cheapest brands in this chart.\n"
   ]
  }
 ],
 "metadata": {
  "kernelspec": {
   "display_name": "Python 3",
   "language": "python",
   "name": "python3"
  },
  "language_info": {
   "codemirror_mode": {
    "name": "ipython",
    "version": 3
   },
   "file_extension": ".py",
   "mimetype": "text/x-python",
   "name": "python",
   "nbconvert_exporter": "python",
   "pygments_lexer": "ipython3",
   "version": "3.13.0"
  }
 },
 "nbformat": 4,
 "nbformat_minor": 2
}
